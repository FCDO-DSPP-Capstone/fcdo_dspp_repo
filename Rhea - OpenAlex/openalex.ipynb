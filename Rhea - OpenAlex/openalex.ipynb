{
 "cells": [
  {
   "cell_type": "code",
   "execution_count": 20,
   "metadata": {},
   "outputs": [
    {
     "data": {
      "application/vnd.plotly.v1+json": {
       "config": {
        "plotlyServerURL": "https://plot.ly"
       },
       "data": [
        {
         "branchvalues": "total",
         "customdata": [
          [
           18885
          ],
          [
           19618
          ],
          [
           16094
          ],
          [
           35247
          ],
          [
           27141
          ],
          [
           18514
          ],
          [
           17125
          ],
          [
           39075
          ],
          [
           28792
          ],
          [
           16573
          ],
          [
           20230
          ],
          [
           39527
          ],
          [
           16844
          ],
          [
           17226
          ],
          [
           40241
          ],
          [
           16605
          ],
          [
           16943
          ],
          [
           21841
          ],
          [
           23604
          ],
          [
           20278
          ],
          [
           22243
          ],
          [
           32605
          ],
          [
           18763
          ],
          [
           36194
          ],
          [
           37054
          ],
          [
           18681
          ],
          [
           19127
          ],
          [
           21764
          ],
          [
           28608
          ],
          [
           54676
          ],
          [
           21208
          ],
          [
           16259
          ],
          [
           23437
          ],
          [
           36644
          ],
          [
           19103
          ],
          [
           87570
          ],
          [
           37834
          ],
          [
           17739
          ],
          [
           24091
          ],
          [
           23647
          ],
          [
           17405
          ],
          [
           16415
          ],
          [
           40715
          ],
          [
           62098
          ],
          [
           16847
          ],
          [
           17943
          ],
          [
           21312
          ],
          [
           94882
          ],
          [
           16412
          ],
          [
           42169
          ],
          [
           25247
          ],
          [
           181766
          ],
          [
           65443
          ],
          [
           16318
          ],
          [
           18215
          ],
          [
           16955
          ],
          [
           37291
          ],
          [
           22386
          ],
          [
           52319
          ],
          [
           33502
          ],
          [
           21098
          ],
          [
           23078
          ],
          [
           42874
          ],
          [
           22741
          ],
          [
           56022
          ],
          [
           19175
          ],
          [
           31222
          ],
          [
           18717
          ],
          [
           48650
          ],
          [
           23335
          ],
          [
           71939
          ],
          [
           17609
          ],
          [
           21449
          ],
          [
           20040
          ],
          [
           49749
          ],
          [
           32167
          ],
          [
           43344
          ],
          [
           50097
          ],
          [
           22312
          ],
          [
           18534
          ],
          [
           28032
          ],
          [
           30311
          ],
          [
           24956
          ],
          [
           20138
          ],
          [
           46366
          ],
          [
           18812
          ],
          [
           68005
          ],
          [
           36701
          ],
          [
           32046
          ],
          [
           53020
          ],
          [
           18632
          ],
          [
           32076
          ],
          [
           39336
          ],
          [
           22499
          ],
          [
           24807
          ],
          [
           23832
          ],
          [
           40675
          ],
          [
           27763
          ],
          [
           16279
          ],
          [
           23972
          ],
          [
           21202
          ],
          [
           25917
          ],
          [
           17122
          ],
          [
           39611
          ],
          [
           44708
          ],
          [
           21356
          ],
          [
           18398
          ],
          [
           23352
          ],
          [
           36295
          ],
          [
           18789
          ],
          [
           35486
          ],
          [
           19004
          ],
          [
           41694
          ],
          [
           23088
          ],
          [
           28181
          ],
          [
           18705
          ],
          [
           20153
          ],
          [
           18580
          ],
          [
           36964
          ],
          [
           17971
          ],
          [
           30476
          ],
          [
           18344
          ],
          [
           19317
          ],
          [
           18527
          ],
          [
           42824
          ],
          [
           17677
          ],
          [
           17323
          ],
          [
           24477
          ],
          [
           40718
          ],
          [
           21378
          ],
          [
           20091
          ],
          [
           22827
          ],
          [
           16699
          ],
          [
           19872
          ],
          [
           30680
          ],
          [
           17372
          ],
          [
           22629
          ],
          [
           29017
          ],
          [
           23274
          ],
          [
           17184
          ],
          [
           18826
          ],
          [
           45893
          ],
          [
           17936
          ],
          [
           23598
          ],
          [
           26923
          ],
          [
           26574
          ],
          [
           27594
          ],
          [
           23901
          ],
          [
           27676
          ],
          [
           60846
          ],
          [
           19408
          ],
          [
           24418
          ],
          [
           18471
          ],
          [
           16728
          ],
          [
           28124
          ],
          [
           40561
          ],
          [
           17034
          ],
          [
           19328
          ],
          [
           27739
          ],
          [
           17879
          ],
          [
           36070
          ],
          [
           16278
          ],
          [
           33818
          ],
          [
           19983
          ],
          [
           21161
          ],
          [
           17206
          ],
          [
           20880
          ],
          [
           25272
          ],
          [
           24361
          ],
          [
           17900
          ],
          [
           19005
          ],
          [
           20206
          ],
          [
           16888
          ],
          [
           18074
          ],
          [
           19856
          ],
          [
           17408
          ],
          [
           20328
          ],
          [
           18528
          ],
          [
           59159
          ],
          [
           18015
          ],
          [
           17740
          ],
          [
           70323
          ],
          [
           19620
          ],
          [
           68228
          ],
          [
           24843
          ],
          [
           18712
          ],
          [
           55136
          ],
          [
           88884
          ],
          [
           34637
          ],
          [
           16452
          ],
          [
           36251
          ],
          [
           33372
          ],
          [
           20248
          ],
          [
           22698
          ],
          [
           17408
          ],
          [
           16605
          ],
          [
           39075
          ],
          [
           19983
          ],
          [
           16412
          ],
          [
           28792
          ],
          [
           37054
          ],
          [
           21449
          ],
          [
           31210.756421505375
          ],
          [
           24807
          ],
          [
           31285.94042581548
          ],
          [
           19620
          ],
          [
           34646.43996547773
          ],
          [
           16847
          ],
          [
           19996.821979165346
          ],
          [
           20531.54143303199
          ],
          [
           42824
          ],
          [
           21076.33798554217
          ],
          [
           17582.92176248714
          ],
          [
           28352.33321436957
          ],
          [
           49805.80685756454
          ],
          [
           19820.653636481074
          ],
          [
           31427.919410502753
          ],
          [
           64729.71741687908
          ],
          [
           47270.512770137524
          ],
          [
           21139.580104303746
          ],
          [
           25674.21172151509
          ],
          [
           64940.069748429145
          ],
          [
           46791.309553338724
          ],
          [
           45396.218896674916
          ],
          [
           35752.43091243404
          ],
          [
           23622.736401767488
          ],
          [
           27167.92090828664
          ],
          [
           21947.011545700774
          ],
          [
           33979.12665927861
          ],
          [
           40325.435997159184
          ],
          [
           38385.75098018102
          ],
          [
           21961.531042297116
          ],
          [
           20145.986845383428
          ],
          [
           21270.553972266913
          ],
          [
           27374.89870052574
          ],
          [
           33738.47215363184
          ],
          [
           21611.936818765316
          ],
          [
           30906.991475206563
          ],
          [
           51667.94556911277
          ],
          [
           35015.431754219484
          ],
          [
           41908.89424156019
          ],
          [
           44652.84541421532
          ],
          [
           120622.28671053608
          ],
          [
           29861.16918778491
          ],
          [
           27708.951344430217
          ],
          [
           23713.97670954638
          ],
          [
           20040
          ]
         ],
         "domain": {
          "x": [
           0,
           1
          ],
          "y": [
           0,
           1
          ]
         },
         "hovertemplate": "labels=%{label}<br>Citations_sum=%{value}<br>parent=%{parent}<br>id=%{id}<br>Citations=%{color}<extra></extra>",
         "ids": [
          "2012/<b>lavaan</b>: An<i>R</i>Package for Structural Equation Modeling",
          "2011/<i>VESTA 3</i>for three-dimensional visualization of crystal, volumetric and morphology data",
          "2005/<scp>genalex</scp> 6: genetic analysis in Excel. Population genetic software for teaching and research",
          "2009/<tt>edgeR</tt>: a Bioconductor package for differential expression analysis of digital gene expression data",
          "1986/A Computational Approach to Edge Detection",
          "1997/A Decision-Theoretic Generalization of On-Line Learning and an Application to Boosting",
          "1994/A Dynamic Theory of Organizational Knowledge Creation",
          "1948/A Mathematical Theory of Communication",
          "1960/A New Approach to Linear Filtering and Prediction Problems",
          "2003/A Simple, Fast, and Accurate Algorithm to Estimate Large Phylogenies by Maximum Likelihood",
          "2009/A Survey on Transfer Learning",
          "1979/A Threshold Selection Method from Gray-Level Histograms",
          "1999/A Wavelet Tour of Signal Processing",
          "1996/A density-based algorithm for discovering clusters in large spatial Databases with Noise",
          "2002/A fast and elitist multiobjective genetic algorithm: NSGA-II",
          "1943/A logical calculus of the ideas immanent in nervous activity",
          "1992/A method for registration of 3-D shapes",
          "2014/A new criterion for assessing discriminant validity in variance-based structural equation modeling",
          "1984/A resource‐based view of the firm",
          "1989/A theory for multiresolution signal decomposition: the wavelet representation",
          "1989/A tutorial on hidden Markov models and selected applications in speech recognition",
          "1990/Absorptive Capacity: A New Perspective on Learning and Innovation",
          "2002/Accurate normalization of real-time quantitative RT-PCR data by geometric averaging of multiple internal control genes",
          "1975/Adaptation in natural and artificial systems",
          "1961/An Inventory for Measuring Depression",
          "2005/An introduction to ROC analysis",
          "1991/Applied Nonlinear Control",
          "1995/Artificial intelligence: a modern approach",
          "2008/Asymptotic and resampling strategies for assessing and comparing indirect effects in multiple mediator models",
          "2017/Attention Is All You Need",
          "2017/Attention is All you Need",
          "2014/Auto-Encoding Variational Bayes",
          "2010/BEDTools: a flexible suite of utilities for comparing genomic features",
          "2018/BERT: Pre-training of Deep Bidirectional Transformers for Language Understanding",
          "2001/BLEU",
          "1990/Basic local alignment search tool",
          "2015/Batch Normalization: Accelerating Deep Network Training by Reducing Internal Covariate Shift",
          "2008/Building better batteries",
          "1992/C4.5: Programs for Machine Learning",
          "1984/Classification and Regression Trees.",
          "2007/Classification and Regression by randomForest",
          "1998/Cluster analysis and display of genome-wide expression patterns",
          "1998/Collective dynamics of ‘small-world’ networks",
          "2003/Common method biases in behavioral research: A critical review of the literature and recommended remedies.",
          "1980/Competitive Strategy: Techniques for Analyzing Industries and Competitors",
          "2004/Compressed sensing",
          "2006/Compressed sensing",
          "1995/Controlling the False Discovery Rate: A Practical and Powerful Approach to Multiple Testing",
          "1959/Convergent and discriminant validation by the multitrait-multimethod matrix.",
          "2003/Cytoscape: A Software Environment for Integrated Models of Biomolecular Interaction Networks",
          "2011/Data Mining: Practical Machine Learning Tools and Techniques",
          "2016/Deep Residual Learning for Image Recognition",
          "2015/Deep learning",
          "2014/Deep learning in neural networks: An overview",
          "2017/DeepLab: Semantic Image Segmentation with Deep Convolutional Nets, Atrous Convolution, and Fully Connected CRFs",
          "2015/Delving Deep into Rectifiers: Surpassing Human-Level Performance on ImageNet Classification",
          "2017/Densely Connected Convolutional Networks",
          "1994/Design Patterns: Elements of Reusable Object-Oriented Software",
          "2004/Distinctive Image Features from Scale-Invariant Keypoints",
          "2014/Dropout: a simple way to prevent neural networks from overfitting",
          "2004/EEGLAB: an open source toolbox for analysis of single-trial EEG dynamics including independent component analysis",
          "2015/Fast R-CNN",
          "2016/Faster R-CNN: Towards Real-Time Object Detection with Region Proposal Networks",
          "2017/Feature Pyramid Networks for Object Detection",
          "2012/Fiji: an open-source platform for biological-image analysis",
          "2017/Focal Loss for Dense Object Detection",
          "2015/Fully convolutional networks for semantic segmentation",
          "1985/Fuzzy identification of systems and its applications to modeling and control",
          "1996/Fuzzy sets",
          "2017/GAN（Generative Adversarial Nets）",
          "1997/Gapped BLAST and PSI-BLAST: a new generation of protein database search programs",
          "2005/Gaussian Processes for Machine Learning",
          "1966/Generalized expectancies for internal versus external control of reinforcement.",
          "2023/Generative Adversarial Nets",
          "1989/Genetic algorithms in search, optimization, and machine learning",
          "2014/Glove: Global Vectors for Word Representation",
          "2015/Going deeper with convolutions",
          "1998/Gradient-based learning applied to document recognition",
          "2001/Greedy function approximation: A gradient boosting machine.",
          "2015/HISAT: a fast spliced aligner with low memory requirements",
          "2021/Highly accurate protein structure prediction with AlphaFold",
          "2005/Histograms of Oriented Gradients for Human Detection",
          "2015/Human-level control through deep reinforcement learning",
          "2014/IQ-TREE: A Fast and Effective Stochastic Algorithm for Estimating Maximum-Likelihood Phylogenies",
          "2004/Image Quality Assessment: From Error Visibility to Structural Similarity",
          "2017/Image-to-Image Translation with Conditional Adversarial Networks",
          "2012/ImageNet Classification with Deep Convolutional Neural Networks",
          "2015/ImageNet Large Scale Visual Recognition Challenge",
          "2017/ImageNet classification with deep convolutional neural networks",
          "2009/ImageNet: A large-scale hierarchical image database",
          "1981/Improved patch-clamp techniques for high-resolution current recording from cells and cell-free membrane patches",
          "2000/Inference of Population Structure Using Multilocus Genotype Data",
          "2013/Introduction to Mediation, Moderation, and Conditional Process Analysis: A Regression-Based Approach",
          "1982/Introduction to Quantitative Genetics.",
          "1974/Judgment under Uncertainty: Heuristics and Biases",
          "1975/Judgment under Uncertainty: Heuristics and Biases",
          "2011/LIBSVM",
          "2003/Latent dirichlet allocation",
          "1985/Learning Internal Representations by Error Propagation",
          "2009/Learning Multiple Layers of Features from Tiny Images",
          "2014/Learning Phrase Representations using RNN Encoder–Decoder for Statistical Machine Translation",
          "1986/Learning representations by back-propagating errors",
          "1986/Longitudinal data analysis using generalized linear models",
          "2011/MEGA5: Molecular Evolutionary Genetics Analysis Using Maximum Likelihood, Evolutionary Distance, and Maximum Parsimony Methods",
          "2013/MEGA6: Molecular Evolutionary Genetics Analysis Version 6.0",
          "2001/MRBAYES: Bayesian inference of phylogenetic trees",
          "2008/MapReduce",
          "2017/Mask R-CNN",
          "1986/Meta-analysis in clinical trials",
          "2000/Meta-analysis of Observational Studies in Epidemiology&lt;SUBTITLE&gt;A Proposal for Reporting&lt;/SUBTITLE&gt;",
          "2014/Microsoft COCO: Common Objects in Context",
          "2018/MobileNetV2: Inverted Residuals and Linear Bottlenecks",
          "2003/Model Selection and Multimodel Inference: A Practical Information-Theoretic Approach",
          "2012/MrBayes 3.2: Efficient Bayesian Phylogenetic Inference and Model Choice Across a Large Model Space",
          "2003/MrBayes 3: Bayesian phylogenetic inference under mixed models",
          "1989/Multilayer feedforward networks are universal approximators",
          "2004/Multiple View Geometry in Computer Vision",
          "1997/Multivariate Data Analysis",
          "1973/Multivariate Data Analysis.",
          "2007/Naïve Bayesian Classifier for Rapid Assignment of rRNA Sequences into the New Bacterial Taxonomy",
          "1998/Neural Networks: A Comprehensive Foundation",
          "1982/Neural networks and physical systems with emergent collective computational abilities.",
          "1994/Neural networks for pattern recognition",
          "1988/On the evaluation of structural equation models",
          "1983/Optimization by Simulated Annealing",
          "1989/PHYLIP-Phylogeny inference package (Version 3.2)",
          "2011/PLS-SEM: Indeed a Silver Bullet",
          "1988/Partial Differential Equations",
          "2002/Particle swarm optimization",
          "2007/Particle swarm optimization",
          "2012/Pattern Classification",
          "2007/Pattern Recognition and Machine Learning",
          "1981/Pattern Recognition with Fuzzy Objective Function Algorithms",
          "1994/Power System Stability and Control",
          "1998/Principles and Practice of Structural Equation Modeling",
          "1988/Probabilistic Reasoning in Intelligent Systems: Networks of Plausible Inference",
          "1990/Qualitative evaluation and research methods",
          "2014/RAxML version 8: a tool for phylogenetic analysis and post-analysis of large phylogenies",
          "1981/Random sample consensus",
          "2005/Rapid object detection using a boosted cascade of simple features",
          "2006/Reducing the Dimensionality of Data with Neural Networks",
          "1996/Regression Shrinkage and Selection Via the Lasso",
          "2005/Regularization and Variable Selection Via the Elastic Net",
          "1998/Reinforcement Learning: An Introduction",
          "2005/Reinforcement Learning: An Introduction",
          "2016/Rethinking the Inception Architecture for Computer Vision",
          "2014/Rich Feature Hierarchies for Accurate Object Detection and Semantic Segmentation",
          "2002/SMOTE: Synthetic Minority Over-sampling Technique",
          "1979/Sample Selection Bias as a Specification Error",
          "2012/Scikit-learn: Machine Learning in Python",
          "2010/Search and clustering orders of magnitude faster than BLAST",
          "1997/Self-efficacy: the exercise of control",
          "2014/Sensitivity and False Alarm Rate of a Fall Sensor in Long-Term Fall Detection in the Elderly",
          "1987/Silhouettes: A graphical aid to the interpretation and validation of cluster analysis",
          "1991/Situated Learning",
          "1994/Situated Learning: Legitimate Peripheral Participation.",
          "1988/Snakes: Active contour models",
          "2018/Squeeze-and-Excitation Networks",
          "1999/Statistical Learning Theory",
          "1984/Stochastic Relaxation, Gibbs Distributions, and the Bayesian Restoration of Images",
          "1995/Support-vector networks",
          "2021/Swin Transformer: Hierarchical Vision Transformer using Shifted Windows",
          "2008/Systematic and integrative analysis of large gene lists using DAVID bioinformatics resources",
          "1949/THE ATTRACTIONS OF PROTEINS FOR SMALL MOLECULES AND IONS",
          "1973/Textural Features for Image Classification",
          "1994/The CCP4 suite: programs for protein crystallography",
          "1984/The Constitution of Society. Outline of the Theory of Structuration",
          "2011/The ERA‐Interim reanalysis: configuration and performance of the data assimilation system",
          "2001/The Elements of Statistical Learning",
          "2009/The Elements of Statistical Learning",
          "2013/The Elements of Statistical Learning: Data Mining, Inference, and Prediction",
          "1981/The Evolution of Cooperation",
          "2009/The Pascal Visual Object Classes (VOC) Challenge",
          "2003/The Structure and Function of Complex Networks",
          "1991/The fifth discipline, the art and practice of the learning organization",
          "1930/The genetical theory of natural selection",
          "1982/The meaning and use of the area under a receiver operating characteristic (ROC) curve.",
          "1995/The need to belong: Desire for interpersonal attachments as a fundamental human motivation.",
          "1987/The neighbor-joining method: a new method for reconstructing phylogenetic trees.",
          "2008/The qualitative content analysis process",
          "1984/The reflective practitioner: How professionals think in action",
          "1991/The theory of planned behavior",
          "1977/Time Series Analysis: Forecasting and Control",
          "2015/U-Net: Convolutional Networks for Biomedical Image Segmentation",
          "2007/UCI Machine Learning Repository",
          "2017/Unpaired Image-to-Image Translation Using Cycle-Consistent Adversarial Networks",
          "1996/VMD: Visual molecular dynamics",
          "2014/Very Deep Convolutional Networks for Large-Scale Image Recognition",
          "2008/Visualizing Data using t-SNE",
          "2017/YOLO9000: Better, Faster, Stronger",
          "2016/You Only Look Once: Unified, Real-Time Object Detection",
          "1997/[20] Processing of X-ray diffraction data collected in oscillation mode",
          "2013/featureCounts: an efficient general purpose program for assigning sequence reads to genomic features",
          "2016/ggplot2",
          "1930",
          "1943",
          "1948",
          "1949",
          "1959",
          "1960",
          "1961",
          "1966",
          "1973",
          "1974",
          "1975",
          "1977",
          "1979",
          "1980",
          "1981",
          "1982",
          "1983",
          "1984",
          "1985",
          "1986",
          "1987",
          "1988",
          "1989",
          "1990",
          "1991",
          "1992",
          "1994",
          "1995",
          "1996",
          "1997",
          "1998",
          "1999",
          "2000",
          "2001",
          "2002",
          "2003",
          "2004",
          "2005",
          "2006",
          "2007",
          "2008",
          "2009",
          "2010",
          "2011",
          "2012",
          "2013",
          "2014",
          "2015",
          "2016",
          "2017",
          "2018",
          "2021",
          "2023"
         ],
         "labels": [
          "<b>lavaan</b>: An<i>R</i>Package for Structural Equation Modeling",
          "<i>VESTA 3</i>for three-dimensional visualization of crystal, volumetric and morphology data",
          "<scp>genalex</scp> 6: genetic analysis in Excel. Population genetic software for teaching and research",
          "<tt>edgeR</tt>: a Bioconductor package for differential expression analysis of digital gene expression data",
          "A Computational Approach to Edge Detection",
          "A Decision-Theoretic Generalization of On-Line Learning and an Application to Boosting",
          "A Dynamic Theory of Organizational Knowledge Creation",
          "A Mathematical Theory of Communication",
          "A New Approach to Linear Filtering and Prediction Problems",
          "A Simple, Fast, and Accurate Algorithm to Estimate Large Phylogenies by Maximum Likelihood",
          "A Survey on Transfer Learning",
          "A Threshold Selection Method from Gray-Level Histograms",
          "A Wavelet Tour of Signal Processing",
          "A density-based algorithm for discovering clusters in large spatial Databases with Noise",
          "A fast and elitist multiobjective genetic algorithm: NSGA-II",
          "A logical calculus of the ideas immanent in nervous activity",
          "A method for registration of 3-D shapes",
          "A new criterion for assessing discriminant validity in variance-based structural equation modeling",
          "A resource‐based view of the firm",
          "A theory for multiresolution signal decomposition: the wavelet representation",
          "A tutorial on hidden Markov models and selected applications in speech recognition",
          "Absorptive Capacity: A New Perspective on Learning and Innovation",
          "Accurate normalization of real-time quantitative RT-PCR data by geometric averaging of multiple internal control genes",
          "Adaptation in natural and artificial systems",
          "An Inventory for Measuring Depression",
          "An introduction to ROC analysis",
          "Applied Nonlinear Control",
          "Artificial intelligence: a modern approach",
          "Asymptotic and resampling strategies for assessing and comparing indirect effects in multiple mediator models",
          "Attention Is All You Need",
          "Attention is All you Need",
          "Auto-Encoding Variational Bayes",
          "BEDTools: a flexible suite of utilities for comparing genomic features",
          "BERT: Pre-training of Deep Bidirectional Transformers for Language Understanding",
          "BLEU",
          "Basic local alignment search tool",
          "Batch Normalization: Accelerating Deep Network Training by Reducing Internal Covariate Shift",
          "Building better batteries",
          "C4.5: Programs for Machine Learning",
          "Classification and Regression Trees.",
          "Classification and Regression by randomForest",
          "Cluster analysis and display of genome-wide expression patterns",
          "Collective dynamics of ‘small-world’ networks",
          "Common method biases in behavioral research: A critical review of the literature and recommended remedies.",
          "Competitive Strategy: Techniques for Analyzing Industries and Competitors",
          "Compressed sensing",
          "Compressed sensing",
          "Controlling the False Discovery Rate: A Practical and Powerful Approach to Multiple Testing",
          "Convergent and discriminant validation by the multitrait-multimethod matrix.",
          "Cytoscape: A Software Environment for Integrated Models of Biomolecular Interaction Networks",
          "Data Mining: Practical Machine Learning Tools and Techniques",
          "Deep Residual Learning for Image Recognition",
          "Deep learning",
          "Deep learning in neural networks: An overview",
          "DeepLab: Semantic Image Segmentation with Deep Convolutional Nets, Atrous Convolution, and Fully Connected CRFs",
          "Delving Deep into Rectifiers: Surpassing Human-Level Performance on ImageNet Classification",
          "Densely Connected Convolutional Networks",
          "Design Patterns: Elements of Reusable Object-Oriented Software",
          "Distinctive Image Features from Scale-Invariant Keypoints",
          "Dropout: a simple way to prevent neural networks from overfitting",
          "EEGLAB: an open source toolbox for analysis of single-trial EEG dynamics including independent component analysis",
          "Fast R-CNN",
          "Faster R-CNN: Towards Real-Time Object Detection with Region Proposal Networks",
          "Feature Pyramid Networks for Object Detection",
          "Fiji: an open-source platform for biological-image analysis",
          "Focal Loss for Dense Object Detection",
          "Fully convolutional networks for semantic segmentation",
          "Fuzzy identification of systems and its applications to modeling and control",
          "Fuzzy sets",
          "GAN（Generative Adversarial Nets）",
          "Gapped BLAST and PSI-BLAST: a new generation of protein database search programs",
          "Gaussian Processes for Machine Learning",
          "Generalized expectancies for internal versus external control of reinforcement.",
          "Generative Adversarial Nets",
          "Genetic algorithms in search, optimization, and machine learning",
          "Glove: Global Vectors for Word Representation",
          "Going deeper with convolutions",
          "Gradient-based learning applied to document recognition",
          "Greedy function approximation: A gradient boosting machine.",
          "HISAT: a fast spliced aligner with low memory requirements",
          "Highly accurate protein structure prediction with AlphaFold",
          "Histograms of Oriented Gradients for Human Detection",
          "Human-level control through deep reinforcement learning",
          "IQ-TREE: A Fast and Effective Stochastic Algorithm for Estimating Maximum-Likelihood Phylogenies",
          "Image Quality Assessment: From Error Visibility to Structural Similarity",
          "Image-to-Image Translation with Conditional Adversarial Networks",
          "ImageNet Classification with Deep Convolutional Neural Networks",
          "ImageNet Large Scale Visual Recognition Challenge",
          "ImageNet classification with deep convolutional neural networks",
          "ImageNet: A large-scale hierarchical image database",
          "Improved patch-clamp techniques for high-resolution current recording from cells and cell-free membrane patches",
          "Inference of Population Structure Using Multilocus Genotype Data",
          "Introduction to Mediation, Moderation, and Conditional Process Analysis: A Regression-Based Approach",
          "Introduction to Quantitative Genetics.",
          "Judgment under Uncertainty: Heuristics and Biases",
          "Judgment under Uncertainty: Heuristics and Biases",
          "LIBSVM",
          "Latent dirichlet allocation",
          "Learning Internal Representations by Error Propagation",
          "Learning Multiple Layers of Features from Tiny Images",
          "Learning Phrase Representations using RNN Encoder–Decoder for Statistical Machine Translation",
          "Learning representations by back-propagating errors",
          "Longitudinal data analysis using generalized linear models",
          "MEGA5: Molecular Evolutionary Genetics Analysis Using Maximum Likelihood, Evolutionary Distance, and Maximum Parsimony Methods",
          "MEGA6: Molecular Evolutionary Genetics Analysis Version 6.0",
          "MRBAYES: Bayesian inference of phylogenetic trees",
          "MapReduce",
          "Mask R-CNN",
          "Meta-analysis in clinical trials",
          "Meta-analysis of Observational Studies in Epidemiology&lt;SUBTITLE&gt;A Proposal for Reporting&lt;/SUBTITLE&gt;",
          "Microsoft COCO: Common Objects in Context",
          "MobileNetV2: Inverted Residuals and Linear Bottlenecks",
          "Model Selection and Multimodel Inference: A Practical Information-Theoretic Approach",
          "MrBayes 3.2: Efficient Bayesian Phylogenetic Inference and Model Choice Across a Large Model Space",
          "MrBayes 3: Bayesian phylogenetic inference under mixed models",
          "Multilayer feedforward networks are universal approximators",
          "Multiple View Geometry in Computer Vision",
          "Multivariate Data Analysis",
          "Multivariate Data Analysis.",
          "Naïve Bayesian Classifier for Rapid Assignment of rRNA Sequences into the New Bacterial Taxonomy",
          "Neural Networks: A Comprehensive Foundation",
          "Neural networks and physical systems with emergent collective computational abilities.",
          "Neural networks for pattern recognition",
          "On the evaluation of structural equation models",
          "Optimization by Simulated Annealing",
          "PHYLIP-Phylogeny inference package (Version 3.2)",
          "PLS-SEM: Indeed a Silver Bullet",
          "Partial Differential Equations",
          "Particle swarm optimization",
          "Particle swarm optimization",
          "Pattern Classification",
          "Pattern Recognition and Machine Learning",
          "Pattern Recognition with Fuzzy Objective Function Algorithms",
          "Power System Stability and Control",
          "Principles and Practice of Structural Equation Modeling",
          "Probabilistic Reasoning in Intelligent Systems: Networks of Plausible Inference",
          "Qualitative evaluation and research methods",
          "RAxML version 8: a tool for phylogenetic analysis and post-analysis of large phylogenies",
          "Random sample consensus",
          "Rapid object detection using a boosted cascade of simple features",
          "Reducing the Dimensionality of Data with Neural Networks",
          "Regression Shrinkage and Selection Via the Lasso",
          "Regularization and Variable Selection Via the Elastic Net",
          "Reinforcement Learning: An Introduction",
          "Reinforcement Learning: An Introduction",
          "Rethinking the Inception Architecture for Computer Vision",
          "Rich Feature Hierarchies for Accurate Object Detection and Semantic Segmentation",
          "SMOTE: Synthetic Minority Over-sampling Technique",
          "Sample Selection Bias as a Specification Error",
          "Scikit-learn: Machine Learning in Python",
          "Search and clustering orders of magnitude faster than BLAST",
          "Self-efficacy: the exercise of control",
          "Sensitivity and False Alarm Rate of a Fall Sensor in Long-Term Fall Detection in the Elderly",
          "Silhouettes: A graphical aid to the interpretation and validation of cluster analysis",
          "Situated Learning",
          "Situated Learning: Legitimate Peripheral Participation.",
          "Snakes: Active contour models",
          "Squeeze-and-Excitation Networks",
          "Statistical Learning Theory",
          "Stochastic Relaxation, Gibbs Distributions, and the Bayesian Restoration of Images",
          "Support-vector networks",
          "Swin Transformer: Hierarchical Vision Transformer using Shifted Windows",
          "Systematic and integrative analysis of large gene lists using DAVID bioinformatics resources",
          "THE ATTRACTIONS OF PROTEINS FOR SMALL MOLECULES AND IONS",
          "Textural Features for Image Classification",
          "The CCP4 suite: programs for protein crystallography",
          "The Constitution of Society. Outline of the Theory of Structuration",
          "The ERA‐Interim reanalysis: configuration and performance of the data assimilation system",
          "The Elements of Statistical Learning",
          "The Elements of Statistical Learning",
          "The Elements of Statistical Learning: Data Mining, Inference, and Prediction",
          "The Evolution of Cooperation",
          "The Pascal Visual Object Classes (VOC) Challenge",
          "The Structure and Function of Complex Networks",
          "The fifth discipline, the art and practice of the learning organization",
          "The genetical theory of natural selection",
          "The meaning and use of the area under a receiver operating characteristic (ROC) curve.",
          "The need to belong: Desire for interpersonal attachments as a fundamental human motivation.",
          "The neighbor-joining method: a new method for reconstructing phylogenetic trees.",
          "The qualitative content analysis process",
          "The reflective practitioner: How professionals think in action",
          "The theory of planned behavior",
          "Time Series Analysis: Forecasting and Control",
          "U-Net: Convolutional Networks for Biomedical Image Segmentation",
          "UCI Machine Learning Repository",
          "Unpaired Image-to-Image Translation Using Cycle-Consistent Adversarial Networks",
          "VMD: Visual molecular dynamics",
          "Very Deep Convolutional Networks for Large-Scale Image Recognition",
          "Visualizing Data using t-SNE",
          "YOLO9000: Better, Faster, Stronger",
          "You Only Look Once: Unified, Real-Time Object Detection",
          "[20] Processing of X-ray diffraction data collected in oscillation mode",
          "featureCounts: an efficient general purpose program for assigning sequence reads to genomic features",
          "ggplot2",
          "1930",
          "1943",
          "1948",
          "1949",
          "1959",
          "1960",
          "1961",
          "1966",
          "1973",
          "1974",
          "1975",
          "1977",
          "1979",
          "1980",
          "1981",
          "1982",
          "1983",
          "1984",
          "1985",
          "1986",
          "1987",
          "1988",
          "1989",
          "1990",
          "1991",
          "1992",
          "1994",
          "1995",
          "1996",
          "1997",
          "1998",
          "1999",
          "2000",
          "2001",
          "2002",
          "2003",
          "2004",
          "2005",
          "2006",
          "2007",
          "2008",
          "2009",
          "2010",
          "2011",
          "2012",
          "2013",
          "2014",
          "2015",
          "2016",
          "2017",
          "2018",
          "2021",
          "2023"
         ],
         "marker": {
          "coloraxis": "coloraxis",
          "colors": [
           18885,
           19618,
           16094,
           35247,
           27141,
           18514,
           17125,
           39075,
           28792,
           16573,
           20230,
           39527,
           16844,
           17226,
           40241,
           16605,
           16943,
           21841,
           23604,
           20278,
           22243,
           32605,
           18763,
           36194,
           37054,
           18681,
           19127,
           21764,
           28608,
           54676,
           21208,
           16259,
           23437,
           36644,
           19103,
           87570,
           37834,
           17739,
           24091,
           23647,
           17405,
           16415,
           40715,
           62098,
           16847,
           17943,
           21312,
           94882,
           16412,
           42169,
           25247,
           181766,
           65443,
           16318,
           18215,
           16955,
           37291,
           22386,
           52319,
           33502,
           21098,
           23078,
           42874,
           22741,
           56022,
           19175,
           31222,
           18717,
           48650,
           23335,
           71939,
           17609,
           21449,
           20040,
           49749,
           32167,
           43344,
           50097,
           22312,
           18534,
           28032,
           30311,
           24956,
           20138,
           46366,
           18812,
           68005,
           36701,
           32046,
           53020,
           18632,
           32076,
           39336,
           22499,
           24807,
           23832,
           40675,
           27763,
           16279,
           23972,
           21202,
           25917,
           17122,
           39611,
           44708,
           21356,
           18398,
           23352,
           36295,
           18789,
           35486,
           19004,
           41694,
           23088,
           28181,
           18705,
           20153,
           18580,
           36964,
           17971,
           30476,
           18344,
           19317,
           18527,
           42824,
           17677,
           17323,
           24477,
           40718,
           21378,
           20091,
           22827,
           16699,
           19872,
           30680,
           17372,
           22629,
           29017,
           23274,
           17184,
           18826,
           45893,
           17936,
           23598,
           26923,
           26574,
           27594,
           23901,
           27676,
           60846,
           19408,
           24418,
           18471,
           16728,
           28124,
           40561,
           17034,
           19328,
           27739,
           17879,
           36070,
           16278,
           33818,
           19983,
           21161,
           17206,
           20880,
           25272,
           24361,
           17900,
           19005,
           20206,
           16888,
           18074,
           19856,
           17408,
           20328,
           18528,
           59159,
           18015,
           17740,
           70323,
           19620,
           68228,
           24843,
           18712,
           55136,
           88884,
           34637,
           16452,
           36251,
           33372,
           20248,
           22698,
           17408,
           16605,
           39075,
           19983,
           16412,
           28792,
           37054,
           21449,
           31210.756421505375,
           24807,
           31285.94042581548,
           19620,
           34646.43996547773,
           16847,
           19996.821979165346,
           20531.54143303199,
           42824,
           21076.33798554217,
           17582.92176248714,
           28352.33321436957,
           49805.80685756454,
           19820.653636481074,
           31427.919410502753,
           64729.71741687908,
           47270.512770137524,
           21139.580104303746,
           25674.21172151509,
           64940.069748429145,
           46791.309553338724,
           45396.218896674916,
           35752.43091243404,
           23622.736401767488,
           27167.92090828664,
           21947.011545700774,
           33979.12665927861,
           40325.435997159184,
           38385.75098018102,
           21961.531042297116,
           20145.986845383428,
           21270.553972266913,
           27374.89870052574,
           33738.47215363184,
           21611.936818765316,
           30906.991475206563,
           51667.94556911277,
           35015.431754219484,
           41908.89424156019,
           44652.84541421532,
           120622.28671053608,
           29861.16918778491,
           27708.951344430217,
           23713.97670954638,
           20040
          ]
         },
         "name": "",
         "parents": [
          "2012",
          "2011",
          "2005",
          "2009",
          "1986",
          "1997",
          "1994",
          "1948",
          "1960",
          "2003",
          "2009",
          "1979",
          "1999",
          "1996",
          "2002",
          "1943",
          "1992",
          "2014",
          "1984",
          "1989",
          "1989",
          "1990",
          "2002",
          "1975",
          "1961",
          "2005",
          "1991",
          "1995",
          "2008",
          "2017",
          "2017",
          "2014",
          "2010",
          "2018",
          "2001",
          "1990",
          "2015",
          "2008",
          "1992",
          "1984",
          "2007",
          "1998",
          "1998",
          "2003",
          "1980",
          "2004",
          "2006",
          "1995",
          "1959",
          "2003",
          "2011",
          "2016",
          "2015",
          "2014",
          "2017",
          "2015",
          "2017",
          "1994",
          "2004",
          "2014",
          "2004",
          "2015",
          "2016",
          "2017",
          "2012",
          "2017",
          "2015",
          "1985",
          "1996",
          "2017",
          "1997",
          "2005",
          "1966",
          "2023",
          "1989",
          "2014",
          "2015",
          "1998",
          "2001",
          "2015",
          "2021",
          "2005",
          "2015",
          "2014",
          "2004",
          "2017",
          "2012",
          "2015",
          "2017",
          "2009",
          "1981",
          "2000",
          "2013",
          "1982",
          "1974",
          "1975",
          "2011",
          "2003",
          "1985",
          "2009",
          "2014",
          "1986",
          "1986",
          "2011",
          "2013",
          "2001",
          "2008",
          "2017",
          "1986",
          "2000",
          "2014",
          "2018",
          "2003",
          "2012",
          "2003",
          "1989",
          "2004",
          "1997",
          "1973",
          "2007",
          "1998",
          "1982",
          "1994",
          "1988",
          "1983",
          "1989",
          "2011",
          "1988",
          "2002",
          "2007",
          "2012",
          "2007",
          "1981",
          "1994",
          "1998",
          "1988",
          "1990",
          "2014",
          "1981",
          "2005",
          "2006",
          "1996",
          "2005",
          "1998",
          "2005",
          "2016",
          "2014",
          "2002",
          "1979",
          "2012",
          "2010",
          "1997",
          "2014",
          "1987",
          "1991",
          "1994",
          "1988",
          "2018",
          "1999",
          "1984",
          "1995",
          "2021",
          "2008",
          "1949",
          "1973",
          "1994",
          "1984",
          "2011",
          "2001",
          "2009",
          "2013",
          "1981",
          "2009",
          "2003",
          "1991",
          "1930",
          "1982",
          "1995",
          "1987",
          "2008",
          "1984",
          "1991",
          "1977",
          "2015",
          "2007",
          "2017",
          "1996",
          "2014",
          "2008",
          "2017",
          "2016",
          "1997",
          "2013",
          "2016",
          "",
          "",
          "",
          "",
          "",
          "",
          "",
          "",
          "",
          "",
          "",
          "",
          "",
          "",
          "",
          "",
          "",
          "",
          "",
          "",
          "",
          "",
          "",
          "",
          "",
          "",
          "",
          "",
          "",
          "",
          "",
          "",
          "",
          "",
          "",
          "",
          "",
          "",
          "",
          "",
          "",
          "",
          "",
          "",
          "",
          "",
          "",
          "",
          "",
          "",
          "",
          "",
          ""
         ],
         "type": "treemap",
         "values": [
          18885,
          19618,
          16094,
          35247,
          27141,
          18514,
          17125,
          39075,
          28792,
          16573,
          20230,
          39527,
          16844,
          17226,
          40241,
          16605,
          16943,
          21841,
          23604,
          20278,
          22243,
          32605,
          18763,
          36194,
          37054,
          18681,
          19127,
          21764,
          28608,
          54676,
          21208,
          16259,
          23437,
          36644,
          19103,
          87570,
          37834,
          17739,
          24091,
          23647,
          17405,
          16415,
          40715,
          62098,
          16847,
          17943,
          21312,
          94882,
          16412,
          42169,
          25247,
          181766,
          65443,
          16318,
          18215,
          16955,
          37291,
          22386,
          52319,
          33502,
          21098,
          23078,
          42874,
          22741,
          56022,
          19175,
          31222,
          18717,
          48650,
          23335,
          71939,
          17609,
          21449,
          20040,
          49749,
          32167,
          43344,
          50097,
          22312,
          18534,
          28032,
          30311,
          24956,
          20138,
          46366,
          18812,
          68005,
          36701,
          32046,
          53020,
          18632,
          32076,
          39336,
          22499,
          24807,
          23832,
          40675,
          27763,
          16279,
          23972,
          21202,
          25917,
          17122,
          39611,
          44708,
          21356,
          18398,
          23352,
          36295,
          18789,
          35486,
          19004,
          41694,
          23088,
          28181,
          18705,
          20153,
          18580,
          36964,
          17971,
          30476,
          18344,
          19317,
          18527,
          42824,
          17677,
          17323,
          24477,
          40718,
          21378,
          20091,
          22827,
          16699,
          19872,
          30680,
          17372,
          22629,
          29017,
          23274,
          17184,
          18826,
          45893,
          17936,
          23598,
          26923,
          26574,
          27594,
          23901,
          27676,
          60846,
          19408,
          24418,
          18471,
          16728,
          28124,
          40561,
          17034,
          19328,
          27739,
          17879,
          36070,
          16278,
          33818,
          19983,
          21161,
          17206,
          20880,
          25272,
          24361,
          17900,
          19005,
          20206,
          16888,
          18074,
          19856,
          17408,
          20328,
          18528,
          59159,
          18015,
          17740,
          70323,
          19620,
          68228,
          24843,
          18712,
          55136,
          88884,
          34637,
          16452,
          36251,
          33372,
          20248,
          22698,
          17408,
          16605,
          39075,
          19983,
          16412,
          28792,
          37054,
          21449,
          58125,
          24807,
          60026,
          19620,
          67203,
          16847,
          78811,
          61171,
          42824,
          103750,
          34996,
          106475,
          75887,
          77410,
          128652,
          142804,
          137430,
          41034,
          136467,
          171244,
          166905,
          166823,
          191981,
          44583,
          50865,
          87132,
          123623,
          236552,
          157879,
          144738,
          40138,
          104424,
          151215,
          167257,
          42845,
          167746,
          246937,
          123297,
          360879,
          366295,
          310163,
          306015,
          74976,
          44310,
          20040
         ]
        }
       ],
       "layout": {
        "coloraxis": {
         "colorbar": {
          "title": {
           "text": "Citations"
          }
         },
         "colorscale": [
          [
           0,
           "#440154"
          ],
          [
           0.1111111111111111,
           "#482878"
          ],
          [
           0.2222222222222222,
           "#3e4989"
          ],
          [
           0.3333333333333333,
           "#31688e"
          ],
          [
           0.4444444444444444,
           "#26828e"
          ],
          [
           0.5555555555555556,
           "#1f9e89"
          ],
          [
           0.6666666666666666,
           "#35b779"
          ],
          [
           0.7777777777777778,
           "#6ece58"
          ],
          [
           0.8888888888888888,
           "#b5de2b"
          ],
          [
           1,
           "#fde725"
          ]
         ]
        },
        "font": {
         "color": "black",
         "family": "Helvetica",
         "size": 14
        },
        "legend": {
         "tracegroupgap": 0
        },
        "template": {
         "data": {
          "bar": [
           {
            "error_x": {
             "color": "#2a3f5f"
            },
            "error_y": {
             "color": "#2a3f5f"
            },
            "marker": {
             "line": {
              "color": "#E5ECF6",
              "width": 0.5
             },
             "pattern": {
              "fillmode": "overlay",
              "size": 10,
              "solidity": 0.2
             }
            },
            "type": "bar"
           }
          ],
          "barpolar": [
           {
            "marker": {
             "line": {
              "color": "#E5ECF6",
              "width": 0.5
             },
             "pattern": {
              "fillmode": "overlay",
              "size": 10,
              "solidity": 0.2
             }
            },
            "type": "barpolar"
           }
          ],
          "carpet": [
           {
            "aaxis": {
             "endlinecolor": "#2a3f5f",
             "gridcolor": "white",
             "linecolor": "white",
             "minorgridcolor": "white",
             "startlinecolor": "#2a3f5f"
            },
            "baxis": {
             "endlinecolor": "#2a3f5f",
             "gridcolor": "white",
             "linecolor": "white",
             "minorgridcolor": "white",
             "startlinecolor": "#2a3f5f"
            },
            "type": "carpet"
           }
          ],
          "choropleth": [
           {
            "colorbar": {
             "outlinewidth": 0,
             "ticks": ""
            },
            "type": "choropleth"
           }
          ],
          "contour": [
           {
            "colorbar": {
             "outlinewidth": 0,
             "ticks": ""
            },
            "colorscale": [
             [
              0,
              "#0d0887"
             ],
             [
              0.1111111111111111,
              "#46039f"
             ],
             [
              0.2222222222222222,
              "#7201a8"
             ],
             [
              0.3333333333333333,
              "#9c179e"
             ],
             [
              0.4444444444444444,
              "#bd3786"
             ],
             [
              0.5555555555555556,
              "#d8576b"
             ],
             [
              0.6666666666666666,
              "#ed7953"
             ],
             [
              0.7777777777777778,
              "#fb9f3a"
             ],
             [
              0.8888888888888888,
              "#fdca26"
             ],
             [
              1,
              "#f0f921"
             ]
            ],
            "type": "contour"
           }
          ],
          "contourcarpet": [
           {
            "colorbar": {
             "outlinewidth": 0,
             "ticks": ""
            },
            "type": "contourcarpet"
           }
          ],
          "heatmap": [
           {
            "colorbar": {
             "outlinewidth": 0,
             "ticks": ""
            },
            "colorscale": [
             [
              0,
              "#0d0887"
             ],
             [
              0.1111111111111111,
              "#46039f"
             ],
             [
              0.2222222222222222,
              "#7201a8"
             ],
             [
              0.3333333333333333,
              "#9c179e"
             ],
             [
              0.4444444444444444,
              "#bd3786"
             ],
             [
              0.5555555555555556,
              "#d8576b"
             ],
             [
              0.6666666666666666,
              "#ed7953"
             ],
             [
              0.7777777777777778,
              "#fb9f3a"
             ],
             [
              0.8888888888888888,
              "#fdca26"
             ],
             [
              1,
              "#f0f921"
             ]
            ],
            "type": "heatmap"
           }
          ],
          "heatmapgl": [
           {
            "colorbar": {
             "outlinewidth": 0,
             "ticks": ""
            },
            "colorscale": [
             [
              0,
              "#0d0887"
             ],
             [
              0.1111111111111111,
              "#46039f"
             ],
             [
              0.2222222222222222,
              "#7201a8"
             ],
             [
              0.3333333333333333,
              "#9c179e"
             ],
             [
              0.4444444444444444,
              "#bd3786"
             ],
             [
              0.5555555555555556,
              "#d8576b"
             ],
             [
              0.6666666666666666,
              "#ed7953"
             ],
             [
              0.7777777777777778,
              "#fb9f3a"
             ],
             [
              0.8888888888888888,
              "#fdca26"
             ],
             [
              1,
              "#f0f921"
             ]
            ],
            "type": "heatmapgl"
           }
          ],
          "histogram": [
           {
            "marker": {
             "pattern": {
              "fillmode": "overlay",
              "size": 10,
              "solidity": 0.2
             }
            },
            "type": "histogram"
           }
          ],
          "histogram2d": [
           {
            "colorbar": {
             "outlinewidth": 0,
             "ticks": ""
            },
            "colorscale": [
             [
              0,
              "#0d0887"
             ],
             [
              0.1111111111111111,
              "#46039f"
             ],
             [
              0.2222222222222222,
              "#7201a8"
             ],
             [
              0.3333333333333333,
              "#9c179e"
             ],
             [
              0.4444444444444444,
              "#bd3786"
             ],
             [
              0.5555555555555556,
              "#d8576b"
             ],
             [
              0.6666666666666666,
              "#ed7953"
             ],
             [
              0.7777777777777778,
              "#fb9f3a"
             ],
             [
              0.8888888888888888,
              "#fdca26"
             ],
             [
              1,
              "#f0f921"
             ]
            ],
            "type": "histogram2d"
           }
          ],
          "histogram2dcontour": [
           {
            "colorbar": {
             "outlinewidth": 0,
             "ticks": ""
            },
            "colorscale": [
             [
              0,
              "#0d0887"
             ],
             [
              0.1111111111111111,
              "#46039f"
             ],
             [
              0.2222222222222222,
              "#7201a8"
             ],
             [
              0.3333333333333333,
              "#9c179e"
             ],
             [
              0.4444444444444444,
              "#bd3786"
             ],
             [
              0.5555555555555556,
              "#d8576b"
             ],
             [
              0.6666666666666666,
              "#ed7953"
             ],
             [
              0.7777777777777778,
              "#fb9f3a"
             ],
             [
              0.8888888888888888,
              "#fdca26"
             ],
             [
              1,
              "#f0f921"
             ]
            ],
            "type": "histogram2dcontour"
           }
          ],
          "mesh3d": [
           {
            "colorbar": {
             "outlinewidth": 0,
             "ticks": ""
            },
            "type": "mesh3d"
           }
          ],
          "parcoords": [
           {
            "line": {
             "colorbar": {
              "outlinewidth": 0,
              "ticks": ""
             }
            },
            "type": "parcoords"
           }
          ],
          "pie": [
           {
            "automargin": true,
            "type": "pie"
           }
          ],
          "scatter": [
           {
            "fillpattern": {
             "fillmode": "overlay",
             "size": 10,
             "solidity": 0.2
            },
            "type": "scatter"
           }
          ],
          "scatter3d": [
           {
            "line": {
             "colorbar": {
              "outlinewidth": 0,
              "ticks": ""
             }
            },
            "marker": {
             "colorbar": {
              "outlinewidth": 0,
              "ticks": ""
             }
            },
            "type": "scatter3d"
           }
          ],
          "scattercarpet": [
           {
            "marker": {
             "colorbar": {
              "outlinewidth": 0,
              "ticks": ""
             }
            },
            "type": "scattercarpet"
           }
          ],
          "scattergeo": [
           {
            "marker": {
             "colorbar": {
              "outlinewidth": 0,
              "ticks": ""
             }
            },
            "type": "scattergeo"
           }
          ],
          "scattergl": [
           {
            "marker": {
             "colorbar": {
              "outlinewidth": 0,
              "ticks": ""
             }
            },
            "type": "scattergl"
           }
          ],
          "scattermapbox": [
           {
            "marker": {
             "colorbar": {
              "outlinewidth": 0,
              "ticks": ""
             }
            },
            "type": "scattermapbox"
           }
          ],
          "scatterpolar": [
           {
            "marker": {
             "colorbar": {
              "outlinewidth": 0,
              "ticks": ""
             }
            },
            "type": "scatterpolar"
           }
          ],
          "scatterpolargl": [
           {
            "marker": {
             "colorbar": {
              "outlinewidth": 0,
              "ticks": ""
             }
            },
            "type": "scatterpolargl"
           }
          ],
          "scatterternary": [
           {
            "marker": {
             "colorbar": {
              "outlinewidth": 0,
              "ticks": ""
             }
            },
            "type": "scatterternary"
           }
          ],
          "surface": [
           {
            "colorbar": {
             "outlinewidth": 0,
             "ticks": ""
            },
            "colorscale": [
             [
              0,
              "#0d0887"
             ],
             [
              0.1111111111111111,
              "#46039f"
             ],
             [
              0.2222222222222222,
              "#7201a8"
             ],
             [
              0.3333333333333333,
              "#9c179e"
             ],
             [
              0.4444444444444444,
              "#bd3786"
             ],
             [
              0.5555555555555556,
              "#d8576b"
             ],
             [
              0.6666666666666666,
              "#ed7953"
             ],
             [
              0.7777777777777778,
              "#fb9f3a"
             ],
             [
              0.8888888888888888,
              "#fdca26"
             ],
             [
              1,
              "#f0f921"
             ]
            ],
            "type": "surface"
           }
          ],
          "table": [
           {
            "cells": {
             "fill": {
              "color": "#EBF0F8"
             },
             "line": {
              "color": "white"
             }
            },
            "header": {
             "fill": {
              "color": "#C8D4E3"
             },
             "line": {
              "color": "white"
             }
            },
            "type": "table"
           }
          ]
         },
         "layout": {
          "annotationdefaults": {
           "arrowcolor": "#2a3f5f",
           "arrowhead": 0,
           "arrowwidth": 1
          },
          "autotypenumbers": "strict",
          "coloraxis": {
           "colorbar": {
            "outlinewidth": 0,
            "ticks": ""
           }
          },
          "colorscale": {
           "diverging": [
            [
             0,
             "#8e0152"
            ],
            [
             0.1,
             "#c51b7d"
            ],
            [
             0.2,
             "#de77ae"
            ],
            [
             0.3,
             "#f1b6da"
            ],
            [
             0.4,
             "#fde0ef"
            ],
            [
             0.5,
             "#f7f7f7"
            ],
            [
             0.6,
             "#e6f5d0"
            ],
            [
             0.7,
             "#b8e186"
            ],
            [
             0.8,
             "#7fbc41"
            ],
            [
             0.9,
             "#4d9221"
            ],
            [
             1,
             "#276419"
            ]
           ],
           "sequential": [
            [
             0,
             "#0d0887"
            ],
            [
             0.1111111111111111,
             "#46039f"
            ],
            [
             0.2222222222222222,
             "#7201a8"
            ],
            [
             0.3333333333333333,
             "#9c179e"
            ],
            [
             0.4444444444444444,
             "#bd3786"
            ],
            [
             0.5555555555555556,
             "#d8576b"
            ],
            [
             0.6666666666666666,
             "#ed7953"
            ],
            [
             0.7777777777777778,
             "#fb9f3a"
            ],
            [
             0.8888888888888888,
             "#fdca26"
            ],
            [
             1,
             "#f0f921"
            ]
           ],
           "sequentialminus": [
            [
             0,
             "#0d0887"
            ],
            [
             0.1111111111111111,
             "#46039f"
            ],
            [
             0.2222222222222222,
             "#7201a8"
            ],
            [
             0.3333333333333333,
             "#9c179e"
            ],
            [
             0.4444444444444444,
             "#bd3786"
            ],
            [
             0.5555555555555556,
             "#d8576b"
            ],
            [
             0.6666666666666666,
             "#ed7953"
            ],
            [
             0.7777777777777778,
             "#fb9f3a"
            ],
            [
             0.8888888888888888,
             "#fdca26"
            ],
            [
             1,
             "#f0f921"
            ]
           ]
          },
          "colorway": [
           "#636efa",
           "#EF553B",
           "#00cc96",
           "#ab63fa",
           "#FFA15A",
           "#19d3f3",
           "#FF6692",
           "#B6E880",
           "#FF97FF",
           "#FECB52"
          ],
          "font": {
           "color": "#2a3f5f"
          },
          "geo": {
           "bgcolor": "white",
           "lakecolor": "white",
           "landcolor": "#E5ECF6",
           "showlakes": true,
           "showland": true,
           "subunitcolor": "white"
          },
          "hoverlabel": {
           "align": "left"
          },
          "hovermode": "closest",
          "mapbox": {
           "style": "light"
          },
          "paper_bgcolor": "white",
          "plot_bgcolor": "#E5ECF6",
          "polar": {
           "angularaxis": {
            "gridcolor": "white",
            "linecolor": "white",
            "ticks": ""
           },
           "bgcolor": "#E5ECF6",
           "radialaxis": {
            "gridcolor": "white",
            "linecolor": "white",
            "ticks": ""
           }
          },
          "scene": {
           "xaxis": {
            "backgroundcolor": "#E5ECF6",
            "gridcolor": "white",
            "gridwidth": 2,
            "linecolor": "white",
            "showbackground": true,
            "ticks": "",
            "zerolinecolor": "white"
           },
           "yaxis": {
            "backgroundcolor": "#E5ECF6",
            "gridcolor": "white",
            "gridwidth": 2,
            "linecolor": "white",
            "showbackground": true,
            "ticks": "",
            "zerolinecolor": "white"
           },
           "zaxis": {
            "backgroundcolor": "#E5ECF6",
            "gridcolor": "white",
            "gridwidth": 2,
            "linecolor": "white",
            "showbackground": true,
            "ticks": "",
            "zerolinecolor": "white"
           }
          },
          "shapedefaults": {
           "line": {
            "color": "#2a3f5f"
           }
          },
          "ternary": {
           "aaxis": {
            "gridcolor": "white",
            "linecolor": "white",
            "ticks": ""
           },
           "baxis": {
            "gridcolor": "white",
            "linecolor": "white",
            "ticks": ""
           },
           "bgcolor": "#E5ECF6",
           "caxis": {
            "gridcolor": "white",
            "linecolor": "white",
            "ticks": ""
           }
          },
          "title": {
           "x": 0.05
          },
          "xaxis": {
           "automargin": true,
           "gridcolor": "white",
           "linecolor": "white",
           "ticks": "",
           "title": {
            "standoff": 15
           },
           "zerolinecolor": "white",
           "zerolinewidth": 2
          },
          "yaxis": {
           "automargin": true,
           "gridcolor": "white",
           "linecolor": "white",
           "ticks": "",
           "title": {
            "standoff": 15
           },
           "zerolinecolor": "white",
           "zerolinewidth": 2
          }
         }
        },
        "title": {
         "text": "Tree Map of OpenAlex Data (Filtered by Technology)",
         "x": 0.5
        }
       }
      }
     },
     "metadata": {},
     "output_type": "display_data"
    }
   ],
   "source": [
    "import pandas as pd\n",
    "import plotly.express as px\n",
    "import requests\n",
    "\n",
    "# Fetch data function remains the same\n",
    "def fetch_openalex_data(concept_id):\n",
    "    url = \"https://api.openalex.org/works\"\n",
    "    params = {\n",
    "        'filter': f'concepts.id:{concept_id}',\n",
    "        'per-page': 200\n",
    "    }\n",
    "    response = requests.get(url, params=params)\n",
    "    response.raise_for_status()\n",
    "    return response.json()\n",
    "\n",
    "# Updated process_data function\n",
    "def process_data(data):\n",
    "    works = data.get('results', [])\n",
    "    processed = []\n",
    "    for work in works:\n",
    "        title = work.get('title', 'Unknown Title')\n",
    "        publication_year = work.get('publication_year', 'Unknown Year')\n",
    "        citation_count = work.get('cited_by_count', 0)\n",
    "        processed.append({\n",
    "            'Title': title,\n",
    "            'Publication Year': publication_year,\n",
    "            'Citations': citation_count\n",
    "        })\n",
    "    df = pd.DataFrame(processed)\n",
    "    # Ensure no missing or duplicate entries\n",
    "    df = df.dropna(subset=['Publication Year', 'Title'])\n",
    "    df = df.groupby(['Publication Year', 'Title'], as_index=False).sum()\n",
    "    return df\n",
    "\n",
    "# Updated create_treemap function\n",
    "def create_treemap(df, file_path=\"\"):\n",
    "    df['Publication Year'] = df['Publication Year'].astype(str)  # Ensure it's a string\n",
    "    fig = px.treemap(\n",
    "        df,\n",
    "        path=['Publication Year', 'Title'],  # Hierarchical path\n",
    "        values='Citations',  # Metric to size the boxes\n",
    "        title='Tree Map of OpenAlex Data (Filtered by Technology)',\n",
    "        color='Citations',\n",
    "        color_continuous_scale='Viridis'\n",
    "    )\n",
    "\n",
    "    fig.update_layout(\n",
    "    font=dict(\n",
    "        family='Helvetica', \n",
    "        size=14,         # Font size\n",
    "        color='black'     # Font color\n",
    "    ),\n",
    "    title_x=0.5  # Center the title\n",
    ")\n",
    "    fig.show()\n",
    "\n",
    "        # Save the figure as an HTML file\n",
    "    if file_path:\n",
    "        fig.write_html(file_path)\n",
    "\n",
    "\n",
    "# Main execution\n",
    "if __name__ == \"__main__\":\n",
    "    concept_id = \"C154945302\"  # Replace with your concept ID\n",
    "    data = fetch_openalex_data(concept_id)\n",
    "    df = process_data(data) \n",
    "    create_treemap(df, file_path = 'opeanlex_citations_treemap.html') "
   ]
  },
  {
   "cell_type": "code",
   "execution_count": null,
   "metadata": {},
   "outputs": [],
   "source": []
  }
 ],
 "metadata": {
  "kernelspec": {
   "display_name": "base",
   "language": "python",
   "name": "python3"
  },
  "language_info": {
   "codemirror_mode": {
    "name": "ipython",
    "version": 3
   },
   "file_extension": ".py",
   "mimetype": "text/x-python",
   "name": "python",
   "nbconvert_exporter": "python",
   "pygments_lexer": "ipython3",
   "version": "3.12.7"
  },
  "orig_nbformat": 4
 },
 "nbformat": 4,
 "nbformat_minor": 2
}
