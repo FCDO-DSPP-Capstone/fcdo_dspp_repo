{
 "cells": [
  {
   "cell_type": "code",
   "execution_count": 5,
   "metadata": {},
   "outputs": [
    {
     "data": {
      "text/html": [
       "\n",
       "        <iframe\n",
       "            width=\"100%\"\n",
       "            height=\"650\"\n",
       "            src=\"http://127.0.0.1:8050/\"\n",
       "            frameborder=\"0\"\n",
       "            allowfullscreen\n",
       "            \n",
       "        ></iframe>\n",
       "        "
      ],
      "text/plain": [
       "<IPython.lib.display.IFrame at 0x160fb6990>"
      ]
     },
     "metadata": {},
     "output_type": "display_data"
    }
   ],
   "source": [
    "from itertools import combinations\n",
    "from collections import Counter\n",
    "import networkx as nx\n",
    "import pandas as pd\n",
    "from dash import Dash, dcc, html, Input, Output\n",
    "import plotly.graph_objects as go\n",
    "\n",
    "df = pd.read_csv(\"Grant - OpenAlex/openalex_combined_dataset.csv\")\n",
    "\n",
    "#introduce dash app\n",
    "app = Dash(__name__)\n",
    "\n",
    "#layout\n",
    "app.layout = html.Div([\n",
    "    html.H1(\"Country Collaboration Network by Topic and Year\"),\n",
    "    \n",
    "    #topic filter\n",
    "    dcc.Dropdown(\n",
    "        id=\"topic-filter\",\n",
    "        options=[\n",
    "            {\"label\": \"Artificial Intelligence\", \"value\": \"Artificial Intelligence\"},\n",
    "            {\"label\": \"Engineering Biology\", \"value\": \"Engineering Biology\"},\n",
    "            {\"label\": \"Quantum Technology\", \"value\": \"Quantum Technology\"}\n",
    "        ],\n",
    "        value=\"Artificial Intelligence\",\n",
    "        clearable=False\n",
    "    ),\n",
    "    \n",
    "    #slider\n",
    "    dcc.RangeSlider(\n",
    "        id=\"year-slider\",\n",
    "        min=1993,\n",
    "        max=2023,\n",
    "        step=1,\n",
    "        value=[1993, 2023],\n",
    "        marks={year: str(year) for year in range(1993, 2024, 5)}  #i want every 5 years\n",
    "    ),\n",
    "    \n",
    "    #graph for viz\n",
    "    dcc.Graph(id=\"country-network-graph\")\n",
    "])\n",
    "\n",
    "#topic and year range\n",
    "@app.callback(\n",
    "    Output(\"country-network-graph\", \"figure\"),\n",
    "    [Input(\"topic-filter\", \"value\"), Input(\"year-slider\", \"value\")]\n",
    ")\n",
    "def update_country_graph(selected_topic, selected_years):\n",
    "    #filter by topic and year range\n",
    "    filtered_df = df[\n",
    "        (df['Topic'] == selected_topic) & \n",
    "        (df['Year'] >= selected_years[0]) & \n",
    "        (df['Year'] <= selected_years[1])\n",
    "    ]\n",
    "\n",
    "    #set country pairs\n",
    "    country_edges = []\n",
    "    for _, row in filtered_df.iterrows():\n",
    "        countries = list(set(row['Institution Country'].split(', ')))\n",
    "        country_edges += list(combinations(countries, 2))\n",
    "    \n",
    "    #count the country pairs\n",
    "    country_pairs = Counter(country_edges)\n",
    "\n",
    "    #build the graph\n",
    "    G_country = nx.Graph()\n",
    "    for pair, weight in country_pairs.items():\n",
    "        G_country.add_edge(pair[0], pair[1], weight=weight)\n",
    "\n",
    "    #generate positions for visualization\n",
    "    pos_country = nx.spring_layout(G_country, seed=42)\n",
    "\n",
    "    #Plotly figure\n",
    "    edge_x = []\n",
    "    edge_y = []\n",
    "    for edge in G_country.edges():\n",
    "        x0, y0 = pos_country[edge[0]]\n",
    "        x1, y1 = pos_country[edge[1]]\n",
    "        edge_x.extend([x0, x1, None])\n",
    "        edge_y.extend([y0, y1, None])\n",
    "\n",
    "    node_x = []\n",
    "    node_y = []\n",
    "    node_size = []\n",
    "    node_text = []\n",
    "    for node in G_country.nodes():\n",
    "        x, y = pos_country[node]\n",
    "        node_x.append(x)\n",
    "        node_y.append(y)\n",
    "        node_size.append(10 + 3 * G_country.degree(node))\n",
    "        collaborations = sum(d['weight'] for _, _, d in G_country.edges(node, data=True))\n",
    "        node_text.append(f\"{node}<br>Collaborations: {collaborations}<br>Degree: {G_country.degree(node)}\")\n",
    "\n",
    "    #create edge trace\n",
    "    edge_trace = go.Scatter(\n",
    "        x=edge_x, y=edge_y,\n",
    "        line=dict(width=0.5, color=\"gray\"),\n",
    "        hoverinfo=\"none\",\n",
    "        mode=\"lines\"\n",
    "    )\n",
    "\n",
    "    #create nodes\n",
    "    node_trace = go.Scatter(\n",
    "        x=node_x, y=node_y,\n",
    "        mode=\"markers\",\n",
    "        marker=dict(\n",
    "            size=node_size,\n",
    "            color=\"blue\",\n",
    "            line_width=2\n",
    "        ),\n",
    "        hoverinfo=\"text\",\n",
    "        text=node_text  #this should help the tooltip. Fingers crossed\n",
    "    )\n",
    "\n",
    "    #setting up and combining into a figure\n",
    "    fig = go.Figure(data=[edge_trace, node_trace],\n",
    "                    layout=go.Layout(\n",
    "                        title=f\"Country Collaboration Network - {selected_topic} ({selected_years[0]}-{selected_years[1]})\",\n",
    "                        showlegend=False,\n",
    "                        hovermode=\"closest\",\n",
    "                        margin=dict(b=0, l=0, r=0, t=40),\n",
    "                        xaxis=dict(showgrid=False, zeroline=False),\n",
    "                        yaxis=dict(showgrid=False, zeroline=False)\n",
    "                    ))\n",
    "    return fig\n",
    "\n",
    "#run the Dash app\n",
    "if __name__ == \"__main__\":\n",
    "    app.run_server(debug=True)"
   ]
  },
  {
   "cell_type": "code",
   "execution_count": 2,
   "metadata": {},
   "outputs": [
    {
     "data": {
      "application/vnd.plotly.v1+json": {
       "config": {
        "plotlyServerURL": "https://plot.ly"
       },
       "data": [
        {
         "hoverinfo": "none",
         "line": {
          "color": "gray",
          "width": 0.5
         },
         "mode": "lines",
         "type": "scatter",
         "x": [
          -0.23103493149411045,
          -0.4009688091759237,
          null,
          -0.23103493149411045,
          0.051115260515826606,
          null,
          -0.23103493149411045,
          -0.16825178178849604,
          null,
          -0.23103493149411045,
          0.05766871334357288,
          null,
          -0.23103493149411045,
          -0.20140207998545398,
          null,
          -0.23103493149411045,
          0.0002189628281523147,
          null,
          -0.23103493149411045,
          -0.6651663533783375,
          null,
          -0.23103493149411045,
          -0.7092174514538144,
          null,
          -0.23103493149411045,
          0.36371397131191074,
          null,
          -0.23103493149411045,
          0.034298923522752156,
          null,
          -0.23103493149411045,
          -0.2259624154331981,
          null,
          -0.23103493149411045,
          -0.39881048991283113,
          null,
          -0.4009688091759237,
          0.051115260515826606,
          null,
          -0.4009688091759237,
          -0.16825178178849604,
          null,
          -0.4009688091759237,
          0.05766871334357288,
          null,
          -0.4009688091759237,
          -1,
          null,
          0.051115260515826606,
          -0.16825178178849604,
          null,
          0.051115260515826606,
          0.05766871334357288,
          null,
          0.051115260515826606,
          0.0002189628281523147,
          null,
          0.051115260515826606,
          0.034298923522752156,
          null,
          0.051115260515826606,
          0.4630516279315408,
          null,
          0.051115260515826606,
          0.36371397131191074,
          null,
          0.051115260515826606,
          0.4239685872266119,
          null,
          -0.16825178178849604,
          0.05766871334357288,
          null,
          -0.16825178178849604,
          -0.20140207998545398,
          null,
          0.05766871334357288,
          -0.20140207998545398,
          null,
          0.05766871334357288,
          0.034298923522752156,
          null,
          0.05766871334357288,
          0.4630516279315408,
          null,
          0.05766871334357288,
          0.36371397131191074,
          null,
          0.05766871334357288,
          0.4239685872266119,
          null,
          0.05766871334357288,
          0.8630039117086331,
          null,
          0.05766871334357288,
          -0.2259624154331981,
          null,
          -0.6651663533783375,
          -0.7092174514538144,
          null,
          0.4630516279315408,
          0.034298923522752156,
          null,
          0.4630516279315408,
          0.36371397131191074,
          null,
          0.4630516279315408,
          0.4239685872266119,
          null,
          0.034298923522752156,
          0.36371397131191074,
          null,
          0.034298923522752156,
          0.4239685872266119,
          null,
          0.034298923522752156,
          -0.2259624154331981,
          null,
          0.034298923522752156,
          -0.39881048991283113,
          null,
          0.36371397131191074,
          0.4239685872266119,
          null,
          0.36371397131191074,
          0.7660843052989619,
          null,
          0.36371397131191074,
          0.9776900489342033,
          null,
          0.7660843052989619,
          0.9776900489342033,
          null
         ],
         "y": [
          -0.09038712490197426,
          0.18778190105277545,
          null,
          -0.09038712490197426,
          -0.12639704641142915,
          null,
          -0.09038712490197426,
          0.22523935202822049,
          null,
          -0.09038712490197426,
          0.050678950896864486,
          null,
          -0.09038712490197426,
          0.5227188190996269,
          null,
          -0.09038712490197426,
          -0.7091818928391711,
          null,
          -0.09038712490197426,
          -0.29721783641996036,
          null,
          -0.09038712490197426,
          -0.062406494156617726,
          null,
          -0.09038712490197426,
          0.17154768825929145,
          null,
          -0.09038712490197426,
          -0.3094344744795391,
          null,
          -0.09038712490197426,
          -0.42326090366700414,
          null,
          -0.09038712490197426,
          -0.7189948537767838,
          null,
          0.18778190105277545,
          -0.12639704641142915,
          null,
          0.18778190105277545,
          0.22523935202822049,
          null,
          0.18778190105277545,
          0.050678950896864486,
          null,
          0.18778190105277545,
          0.6321377630798222,
          null,
          -0.12639704641142915,
          0.22523935202822049,
          null,
          -0.12639704641142915,
          0.050678950896864486,
          null,
          -0.12639704641142915,
          -0.7091818928391711,
          null,
          -0.12639704641142915,
          -0.3094344744795391,
          null,
          -0.12639704641142915,
          -0.11350219857291491,
          null,
          -0.12639704641142915,
          0.17154768825929145,
          null,
          -0.12639704641142915,
          -0.30796727943036567,
          null,
          0.22523935202822049,
          0.050678950896864486,
          null,
          0.22523935202822049,
          0.5227188190996269,
          null,
          0.050678950896864486,
          0.5227188190996269,
          null,
          0.050678950896864486,
          -0.3094344744795391,
          null,
          0.050678950896864486,
          -0.11350219857291491,
          null,
          0.050678950896864486,
          0.17154768825929145,
          null,
          0.050678950896864486,
          -0.30796727943036567,
          null,
          0.050678950896864486,
          0.02047899564837102,
          null,
          0.050678950896864486,
          -0.42326090366700414,
          null,
          -0.29721783641996036,
          -0.062406494156617726,
          null,
          -0.11350219857291491,
          -0.3094344744795391,
          null,
          -0.11350219857291491,
          0.17154768825929145,
          null,
          -0.11350219857291491,
          -0.30796727943036567,
          null,
          -0.3094344744795391,
          0.17154768825929145,
          null,
          -0.3094344744795391,
          -0.30796727943036567,
          null,
          -0.3094344744795391,
          -0.42326090366700414,
          null,
          -0.3094344744795391,
          -0.7189948537767838,
          null,
          0.17154768825929145,
          -0.30796727943036567,
          null,
          0.17154768825929145,
          0.7740001385453944,
          null,
          0.17154768825929145,
          0.5741664960453953,
          null,
          0.7740001385453944,
          0.5741664960453953,
          null
         ]
        },
        {
         "hoverinfo": "text",
         "marker": {
          "color": "blue",
          "line": {
           "width": 2
          },
          "size": [
           46,
           25,
           37,
           25,
           43,
           19,
           16,
           16,
           16,
           25,
           34,
           34,
           25,
           13,
           13,
           19,
           16,
           16,
           16
          ]
         },
         "mode": "markers",
         "text": [
          "US<br>Collaborations: 31<br>Degree: 12",
          "CA<br>Collaborations: 9<br>Degree: 5",
          "JP<br>Collaborations: 12<br>Degree: 9",
          "FR<br>Collaborations: 8<br>Degree: 5",
          "DE<br>Collaborations: 17<br>Degree: 11",
          "CH<br>Collaborations: 3<br>Degree: 3",
          "SA<br>Collaborations: 2<br>Degree: 2",
          "CN<br>Collaborations: 4<br>Degree: 2",
          "IL<br>Collaborations: 4<br>Degree: 2",
          "KR<br>Collaborations: 5<br>Degree: 5",
          "GB<br>Collaborations: 11<br>Degree: 8",
          "SE<br>Collaborations: 9<br>Degree: 8",
          "AT<br>Collaborations: 5<br>Degree: 5",
          "IN<br>Collaborations: 1<br>Degree: 1",
          "NL<br>Collaborations: 1<br>Degree: 1",
          "AU<br>Collaborations: 4<br>Degree: 3",
          "FI<br>Collaborations: 2<br>Degree: 2",
          "IT<br>Collaborations: 2<br>Degree: 2",
          "BE<br>Collaborations: 2<br>Degree: 2"
         ],
         "type": "scatter",
         "x": [
          -0.23103493149411045,
          -0.4009688091759237,
          0.051115260515826606,
          -0.16825178178849604,
          0.05766871334357288,
          -0.20140207998545398,
          0.0002189628281523147,
          -0.6651663533783375,
          -0.7092174514538144,
          0.4630516279315408,
          0.034298923522752156,
          0.36371397131191074,
          0.4239685872266119,
          -1,
          0.8630039117086331,
          -0.2259624154331981,
          0.7660843052989619,
          0.9776900489342033,
          -0.39881048991283113
         ],
         "y": [
          -0.09038712490197426,
          0.18778190105277545,
          -0.12639704641142915,
          0.22523935202822049,
          0.050678950896864486,
          0.5227188190996269,
          -0.7091818928391711,
          -0.29721783641996036,
          -0.062406494156617726,
          -0.11350219857291491,
          -0.3094344744795391,
          0.17154768825929145,
          -0.30796727943036567,
          0.6321377630798222,
          0.02047899564837102,
          -0.42326090366700414,
          0.7740001385453944,
          0.5741664960453953,
          -0.7189948537767838
         ]
        }
       ],
       "layout": {
        "hovermode": "closest",
        "margin": {
         "b": 20,
         "l": 5,
         "r": 5,
         "t": 40
        },
        "showlegend": false,
        "template": {
         "data": {
          "bar": [
           {
            "error_x": {
             "color": "#2a3f5f"
            },
            "error_y": {
             "color": "#2a3f5f"
            },
            "marker": {
             "line": {
              "color": "#E5ECF6",
              "width": 0.5
             },
             "pattern": {
              "fillmode": "overlay",
              "size": 10,
              "solidity": 0.2
             }
            },
            "type": "bar"
           }
          ],
          "barpolar": [
           {
            "marker": {
             "line": {
              "color": "#E5ECF6",
              "width": 0.5
             },
             "pattern": {
              "fillmode": "overlay",
              "size": 10,
              "solidity": 0.2
             }
            },
            "type": "barpolar"
           }
          ],
          "carpet": [
           {
            "aaxis": {
             "endlinecolor": "#2a3f5f",
             "gridcolor": "white",
             "linecolor": "white",
             "minorgridcolor": "white",
             "startlinecolor": "#2a3f5f"
            },
            "baxis": {
             "endlinecolor": "#2a3f5f",
             "gridcolor": "white",
             "linecolor": "white",
             "minorgridcolor": "white",
             "startlinecolor": "#2a3f5f"
            },
            "type": "carpet"
           }
          ],
          "choropleth": [
           {
            "colorbar": {
             "outlinewidth": 0,
             "ticks": ""
            },
            "type": "choropleth"
           }
          ],
          "contour": [
           {
            "colorbar": {
             "outlinewidth": 0,
             "ticks": ""
            },
            "colorscale": [
             [
              0,
              "#0d0887"
             ],
             [
              0.1111111111111111,
              "#46039f"
             ],
             [
              0.2222222222222222,
              "#7201a8"
             ],
             [
              0.3333333333333333,
              "#9c179e"
             ],
             [
              0.4444444444444444,
              "#bd3786"
             ],
             [
              0.5555555555555556,
              "#d8576b"
             ],
             [
              0.6666666666666666,
              "#ed7953"
             ],
             [
              0.7777777777777778,
              "#fb9f3a"
             ],
             [
              0.8888888888888888,
              "#fdca26"
             ],
             [
              1,
              "#f0f921"
             ]
            ],
            "type": "contour"
           }
          ],
          "contourcarpet": [
           {
            "colorbar": {
             "outlinewidth": 0,
             "ticks": ""
            },
            "type": "contourcarpet"
           }
          ],
          "heatmap": [
           {
            "colorbar": {
             "outlinewidth": 0,
             "ticks": ""
            },
            "colorscale": [
             [
              0,
              "#0d0887"
             ],
             [
              0.1111111111111111,
              "#46039f"
             ],
             [
              0.2222222222222222,
              "#7201a8"
             ],
             [
              0.3333333333333333,
              "#9c179e"
             ],
             [
              0.4444444444444444,
              "#bd3786"
             ],
             [
              0.5555555555555556,
              "#d8576b"
             ],
             [
              0.6666666666666666,
              "#ed7953"
             ],
             [
              0.7777777777777778,
              "#fb9f3a"
             ],
             [
              0.8888888888888888,
              "#fdca26"
             ],
             [
              1,
              "#f0f921"
             ]
            ],
            "type": "heatmap"
           }
          ],
          "heatmapgl": [
           {
            "colorbar": {
             "outlinewidth": 0,
             "ticks": ""
            },
            "colorscale": [
             [
              0,
              "#0d0887"
             ],
             [
              0.1111111111111111,
              "#46039f"
             ],
             [
              0.2222222222222222,
              "#7201a8"
             ],
             [
              0.3333333333333333,
              "#9c179e"
             ],
             [
              0.4444444444444444,
              "#bd3786"
             ],
             [
              0.5555555555555556,
              "#d8576b"
             ],
             [
              0.6666666666666666,
              "#ed7953"
             ],
             [
              0.7777777777777778,
              "#fb9f3a"
             ],
             [
              0.8888888888888888,
              "#fdca26"
             ],
             [
              1,
              "#f0f921"
             ]
            ],
            "type": "heatmapgl"
           }
          ],
          "histogram": [
           {
            "marker": {
             "pattern": {
              "fillmode": "overlay",
              "size": 10,
              "solidity": 0.2
             }
            },
            "type": "histogram"
           }
          ],
          "histogram2d": [
           {
            "colorbar": {
             "outlinewidth": 0,
             "ticks": ""
            },
            "colorscale": [
             [
              0,
              "#0d0887"
             ],
             [
              0.1111111111111111,
              "#46039f"
             ],
             [
              0.2222222222222222,
              "#7201a8"
             ],
             [
              0.3333333333333333,
              "#9c179e"
             ],
             [
              0.4444444444444444,
              "#bd3786"
             ],
             [
              0.5555555555555556,
              "#d8576b"
             ],
             [
              0.6666666666666666,
              "#ed7953"
             ],
             [
              0.7777777777777778,
              "#fb9f3a"
             ],
             [
              0.8888888888888888,
              "#fdca26"
             ],
             [
              1,
              "#f0f921"
             ]
            ],
            "type": "histogram2d"
           }
          ],
          "histogram2dcontour": [
           {
            "colorbar": {
             "outlinewidth": 0,
             "ticks": ""
            },
            "colorscale": [
             [
              0,
              "#0d0887"
             ],
             [
              0.1111111111111111,
              "#46039f"
             ],
             [
              0.2222222222222222,
              "#7201a8"
             ],
             [
              0.3333333333333333,
              "#9c179e"
             ],
             [
              0.4444444444444444,
              "#bd3786"
             ],
             [
              0.5555555555555556,
              "#d8576b"
             ],
             [
              0.6666666666666666,
              "#ed7953"
             ],
             [
              0.7777777777777778,
              "#fb9f3a"
             ],
             [
              0.8888888888888888,
              "#fdca26"
             ],
             [
              1,
              "#f0f921"
             ]
            ],
            "type": "histogram2dcontour"
           }
          ],
          "mesh3d": [
           {
            "colorbar": {
             "outlinewidth": 0,
             "ticks": ""
            },
            "type": "mesh3d"
           }
          ],
          "parcoords": [
           {
            "line": {
             "colorbar": {
              "outlinewidth": 0,
              "ticks": ""
             }
            },
            "type": "parcoords"
           }
          ],
          "pie": [
           {
            "automargin": true,
            "type": "pie"
           }
          ],
          "scatter": [
           {
            "fillpattern": {
             "fillmode": "overlay",
             "size": 10,
             "solidity": 0.2
            },
            "type": "scatter"
           }
          ],
          "scatter3d": [
           {
            "line": {
             "colorbar": {
              "outlinewidth": 0,
              "ticks": ""
             }
            },
            "marker": {
             "colorbar": {
              "outlinewidth": 0,
              "ticks": ""
             }
            },
            "type": "scatter3d"
           }
          ],
          "scattercarpet": [
           {
            "marker": {
             "colorbar": {
              "outlinewidth": 0,
              "ticks": ""
             }
            },
            "type": "scattercarpet"
           }
          ],
          "scattergeo": [
           {
            "marker": {
             "colorbar": {
              "outlinewidth": 0,
              "ticks": ""
             }
            },
            "type": "scattergeo"
           }
          ],
          "scattergl": [
           {
            "marker": {
             "colorbar": {
              "outlinewidth": 0,
              "ticks": ""
             }
            },
            "type": "scattergl"
           }
          ],
          "scattermapbox": [
           {
            "marker": {
             "colorbar": {
              "outlinewidth": 0,
              "ticks": ""
             }
            },
            "type": "scattermapbox"
           }
          ],
          "scatterpolar": [
           {
            "marker": {
             "colorbar": {
              "outlinewidth": 0,
              "ticks": ""
             }
            },
            "type": "scatterpolar"
           }
          ],
          "scatterpolargl": [
           {
            "marker": {
             "colorbar": {
              "outlinewidth": 0,
              "ticks": ""
             }
            },
            "type": "scatterpolargl"
           }
          ],
          "scatterternary": [
           {
            "marker": {
             "colorbar": {
              "outlinewidth": 0,
              "ticks": ""
             }
            },
            "type": "scatterternary"
           }
          ],
          "surface": [
           {
            "colorbar": {
             "outlinewidth": 0,
             "ticks": ""
            },
            "colorscale": [
             [
              0,
              "#0d0887"
             ],
             [
              0.1111111111111111,
              "#46039f"
             ],
             [
              0.2222222222222222,
              "#7201a8"
             ],
             [
              0.3333333333333333,
              "#9c179e"
             ],
             [
              0.4444444444444444,
              "#bd3786"
             ],
             [
              0.5555555555555556,
              "#d8576b"
             ],
             [
              0.6666666666666666,
              "#ed7953"
             ],
             [
              0.7777777777777778,
              "#fb9f3a"
             ],
             [
              0.8888888888888888,
              "#fdca26"
             ],
             [
              1,
              "#f0f921"
             ]
            ],
            "type": "surface"
           }
          ],
          "table": [
           {
            "cells": {
             "fill": {
              "color": "#EBF0F8"
             },
             "line": {
              "color": "white"
             }
            },
            "header": {
             "fill": {
              "color": "#C8D4E3"
             },
             "line": {
              "color": "white"
             }
            },
            "type": "table"
           }
          ]
         },
         "layout": {
          "annotationdefaults": {
           "arrowcolor": "#2a3f5f",
           "arrowhead": 0,
           "arrowwidth": 1
          },
          "autotypenumbers": "strict",
          "coloraxis": {
           "colorbar": {
            "outlinewidth": 0,
            "ticks": ""
           }
          },
          "colorscale": {
           "diverging": [
            [
             0,
             "#8e0152"
            ],
            [
             0.1,
             "#c51b7d"
            ],
            [
             0.2,
             "#de77ae"
            ],
            [
             0.3,
             "#f1b6da"
            ],
            [
             0.4,
             "#fde0ef"
            ],
            [
             0.5,
             "#f7f7f7"
            ],
            [
             0.6,
             "#e6f5d0"
            ],
            [
             0.7,
             "#b8e186"
            ],
            [
             0.8,
             "#7fbc41"
            ],
            [
             0.9,
             "#4d9221"
            ],
            [
             1,
             "#276419"
            ]
           ],
           "sequential": [
            [
             0,
             "#0d0887"
            ],
            [
             0.1111111111111111,
             "#46039f"
            ],
            [
             0.2222222222222222,
             "#7201a8"
            ],
            [
             0.3333333333333333,
             "#9c179e"
            ],
            [
             0.4444444444444444,
             "#bd3786"
            ],
            [
             0.5555555555555556,
             "#d8576b"
            ],
            [
             0.6666666666666666,
             "#ed7953"
            ],
            [
             0.7777777777777778,
             "#fb9f3a"
            ],
            [
             0.8888888888888888,
             "#fdca26"
            ],
            [
             1,
             "#f0f921"
            ]
           ],
           "sequentialminus": [
            [
             0,
             "#0d0887"
            ],
            [
             0.1111111111111111,
             "#46039f"
            ],
            [
             0.2222222222222222,
             "#7201a8"
            ],
            [
             0.3333333333333333,
             "#9c179e"
            ],
            [
             0.4444444444444444,
             "#bd3786"
            ],
            [
             0.5555555555555556,
             "#d8576b"
            ],
            [
             0.6666666666666666,
             "#ed7953"
            ],
            [
             0.7777777777777778,
             "#fb9f3a"
            ],
            [
             0.8888888888888888,
             "#fdca26"
            ],
            [
             1,
             "#f0f921"
            ]
           ]
          },
          "colorway": [
           "#636efa",
           "#EF553B",
           "#00cc96",
           "#ab63fa",
           "#FFA15A",
           "#19d3f3",
           "#FF6692",
           "#B6E880",
           "#FF97FF",
           "#FECB52"
          ],
          "font": {
           "color": "#2a3f5f"
          },
          "geo": {
           "bgcolor": "white",
           "lakecolor": "white",
           "landcolor": "#E5ECF6",
           "showlakes": true,
           "showland": true,
           "subunitcolor": "white"
          },
          "hoverlabel": {
           "align": "left"
          },
          "hovermode": "closest",
          "mapbox": {
           "style": "light"
          },
          "paper_bgcolor": "white",
          "plot_bgcolor": "#E5ECF6",
          "polar": {
           "angularaxis": {
            "gridcolor": "white",
            "linecolor": "white",
            "ticks": ""
           },
           "bgcolor": "#E5ECF6",
           "radialaxis": {
            "gridcolor": "white",
            "linecolor": "white",
            "ticks": ""
           }
          },
          "scene": {
           "xaxis": {
            "backgroundcolor": "#E5ECF6",
            "gridcolor": "white",
            "gridwidth": 2,
            "linecolor": "white",
            "showbackground": true,
            "ticks": "",
            "zerolinecolor": "white"
           },
           "yaxis": {
            "backgroundcolor": "#E5ECF6",
            "gridcolor": "white",
            "gridwidth": 2,
            "linecolor": "white",
            "showbackground": true,
            "ticks": "",
            "zerolinecolor": "white"
           },
           "zaxis": {
            "backgroundcolor": "#E5ECF6",
            "gridcolor": "white",
            "gridwidth": 2,
            "linecolor": "white",
            "showbackground": true,
            "ticks": "",
            "zerolinecolor": "white"
           }
          },
          "shapedefaults": {
           "line": {
            "color": "#2a3f5f"
           }
          },
          "ternary": {
           "aaxis": {
            "gridcolor": "white",
            "linecolor": "white",
            "ticks": ""
           },
           "baxis": {
            "gridcolor": "white",
            "linecolor": "white",
            "ticks": ""
           },
           "bgcolor": "#E5ECF6",
           "caxis": {
            "gridcolor": "white",
            "linecolor": "white",
            "ticks": ""
           }
          },
          "title": {
           "x": 0.05
          },
          "xaxis": {
           "automargin": true,
           "gridcolor": "white",
           "linecolor": "white",
           "ticks": "",
           "title": {
            "standoff": 15
           },
           "zerolinecolor": "white",
           "zerolinewidth": 2
          },
          "yaxis": {
           "automargin": true,
           "gridcolor": "white",
           "linecolor": "white",
           "ticks": "",
           "title": {
            "standoff": 15
           },
           "zerolinecolor": "white",
           "zerolinewidth": 2
          }
         }
        },
        "title": {
         "font": {
          "size": 16
         },
         "text": "<br>Country Collaboration Network - Artificial Intelligence (1993-2023)"
        },
        "xaxis": {
         "showgrid": false,
         "showticklabels": false,
         "zeroline": false
        },
        "yaxis": {
         "showgrid": false,
         "showticklabels": false,
         "zeroline": false
        }
       }
      }
     },
     "metadata": {},
     "output_type": "display_data"
    }
   ],
   "source": [
    "import networkx as nx\n",
    "import pandas as pd\n",
    "import plotly.graph_objects as go\n",
    "from itertools import combinations\n",
    "from collections import Counter\n",
    "\n",
    "# Load data\n",
    "df = pd.read_csv(\"Grant - OpenAlex/openalex_combined_dataset.csv\")\n",
    "\n",
    "# Filter dataset\n",
    "selected_topic = \"Artificial Intelligence\"\n",
    "selected_years = [1993, 2023]\n",
    "filtered_df = df[(df['Topic'] == selected_topic) & (df['Year'] >= selected_years[0]) & (df['Year'] <= selected_years[1])]\n",
    "\n",
    "# Generate country pairs\n",
    "country_edges = []\n",
    "for _, row in filtered_df.iterrows():\n",
    "    countries = list(set(row['Institution Country'].split(', ')))\n",
    "    country_edges += list(combinations(countries, 2))\n",
    "\n",
    "# Count country collaborations\n",
    "country_pairs = Counter(country_edges)\n",
    "\n",
    "# Build the network graph\n",
    "G_country = nx.Graph()\n",
    "for pair, weight in country_pairs.items():\n",
    "    G_country.add_edge(pair[0], pair[1], weight=weight)\n",
    "\n",
    "# Get positions for visualization\n",
    "pos_country = nx.spring_layout(G_country, seed=42)\n",
    "\n",
    "# Extract edge positions\n",
    "edge_x = []\n",
    "edge_y = []\n",
    "for edge in G_country.edges():\n",
    "    x0, y0 = pos_country[edge[0]]\n",
    "    x1, y1 = pos_country[edge[1]]\n",
    "    edge_x.extend([x0, x1, None])\n",
    "    edge_y.extend([y0, y1, None])\n",
    "\n",
    "# Extract node positions and sizes\n",
    "node_x = []\n",
    "node_y = []\n",
    "node_size = []\n",
    "node_text = []\n",
    "for node in G_country.nodes():\n",
    "    x, y = pos_country[node]\n",
    "    node_x.append(x)\n",
    "    node_y.append(y)\n",
    "    node_size.append(10 + 3 * G_country.degree(node))\n",
    "    collaborations = sum(d['weight'] for _, _, d in G_country.edges(node, data=True))\n",
    "    node_text.append(f\"{node}<br>Collaborations: {collaborations}<br>Degree: {G_country.degree(node)}\")\n",
    "\n",
    "# Create edge trace\n",
    "edge_trace = go.Scatter(\n",
    "    x=edge_x, y=edge_y,\n",
    "    line=dict(width=0.5, color=\"gray\"),\n",
    "    hoverinfo=\"none\",\n",
    "    mode=\"lines\"\n",
    ")\n",
    "\n",
    "# Create node trace\n",
    "node_trace = go.Scatter(\n",
    "    x=node_x, y=node_y,\n",
    "    mode=\"markers\",\n",
    "    marker=dict(\n",
    "        size=node_size,\n",
    "        color=\"blue\",\n",
    "        line_width=2\n",
    "    ),\n",
    "    hoverinfo=\"text\",\n",
    "    text=node_text\n",
    ")\n",
    "\n",
    "# Create figure\n",
    "fig = go.Figure(\n",
    "    data=[edge_trace, node_trace],\n",
    "    layout=go.Layout(\n",
    "        title=dict(\n",
    "            text=f\"<br>Country Collaboration Network - {selected_topic} ({selected_years[0]}-{selected_years[1]})\",\n",
    "            font=dict(size=16)\n",
    "        ),\n",
    "        showlegend=False,\n",
    "        hovermode='closest',\n",
    "        margin=dict(b=20, l=5, r=5, t=40),\n",
    "\n",
    "        xaxis=dict(showgrid=False, zeroline=False, showticklabels=False),\n",
    "        yaxis=dict(showgrid=False, zeroline=False, showticklabels=False)\n",
    "    )\n",
    ")\n",
    "\n",
    "# Show plot\n",
    "fig.show()"
   ]
  },
  {
   "cell_type": "code",
   "execution_count": null,
   "metadata": {},
   "outputs": [
    {
     "data": {
      "text/html": [
       "\n",
       "        <iframe\n",
       "            width=\"100%\"\n",
       "            height=\"650\"\n",
       "            src=\"http://127.0.0.1:8050/\"\n",
       "            frameborder=\"0\"\n",
       "            allowfullscreen\n",
       "            \n",
       "        ></iframe>\n",
       "        "
      ],
      "text/plain": [
       "<IPython.lib.display.IFrame at 0x14d8d85f0>"
      ]
     },
     "metadata": {},
     "output_type": "display_data"
    }
   ],
   "source": [
    "import networkx as nx\n",
    "import pandas as pd\n",
    "import dash\n",
    "from dash import Dash, dcc, html, Input, Output\n",
    "import plotly\n",
    "import plotly.graph_objects as go\n",
    "\n",
    "\n",
    "# Load data\n",
    "df = pd.read_csv(\"Grant - OpenAlex/openalex_combined_dataset.csv\")\n",
    "\n",
    "# Introduce Dash app\n",
    "app = Dash(__name__)\n",
    "\n",
    "# Layout\n",
    "app.layout = html.Div([\n",
    "    html.H1(\"Country Collaboration Network by Topic and Year\"),\n",
    "    \n",
    "    # Topic filter\n",
    "    dcc.Dropdown(\n",
    "        id=\"topic-filter\",\n",
    "        options=[\n",
    "            {\"label\": \"Artificial Intelligence\", \"value\": \"Artificial Intelligence\"},\n",
    "            {\"label\": \"Engineering Biology\", \"value\": \"Engineering Biology\"},\n",
    "            {\"label\": \"Quantum Technology\", \"value\": \"Quantum Technology\"}\n",
    "        ],\n",
    "        value=\"Artificial Intelligence\",\n",
    "        clearable=False\n",
    "    ),\n",
    "    \n",
    "    # Slider\n",
    "    dcc.RangeSlider(\n",
    "        id=\"year-slider\",\n",
    "        min=1993,\n",
    "        max=2023,\n",
    "        step=1,\n",
    "        value=[1993, 2023],\n",
    "        marks={year: str(year) for year in range(1993, 2024, 5)}\n",
    "    ),\n",
    "    \n",
    "    # Graph for visualization\n",
    "    dcc.Graph(id=\"country-network-graph\")\n",
    "])\n",
    "\n",
    "# Topic and year range\n",
    "@app.callback(\n",
    "    Output(\"country-network-graph\", \"figure\"),\n",
    "    [Input(\"topic-filter\", \"value\"), Input(\"year-slider\", \"value\")]\n",
    ")\n",
    "def update_country_graph(selected_topic, selected_years):\n",
    "    # Filter by topic and year range\n",
    "    filtered_df = df[\n",
    "        (df['Topic'] == selected_topic) & \n",
    "        (df['Year'] >= selected_years[0]) & \n",
    "        (df['Year'] <= selected_years[1])\n",
    "    ]\n",
    "\n",
    "    # Set country pairs manually\n",
    "    country_edges = []\n",
    "    for _, row in filtered_df.iterrows():\n",
    "        countries = list(set(row['Institution Country'].split(', ')))\n",
    "        for i in range(len(countries)):\n",
    "            for j in range(i + 1, len(countries)):\n",
    "                country_edges.append((countries[i], countries[j]))\n",
    "    \n",
    "    # Manually count the country pairs\n",
    "    country_pairs = {}\n",
    "    for pair in country_edges:\n",
    "        if pair in country_pairs:\n",
    "            country_pairs[pair] += 1\n",
    "        else:\n",
    "            country_pairs[pair] = 1\n",
    "\n",
    "    # Build the graph\n",
    "    G_country = nx.Graph()\n",
    "    for pair, weight in country_pairs.items():\n",
    "        G_country.add_edge(pair[0], pair[1], weight=weight)\n",
    "\n",
    "    # Generate positions for visualization\n",
    "    pos_country = nx.spring_layout(G_country, seed=42)\n",
    "\n",
    "    # Plotly figure\n",
    "    edge_x = []\n",
    "    edge_y = []\n",
    "    for edge in G_country.edges():\n",
    "        x0, y0 = pos_country[edge[0]]\n",
    "        x1, y1 = pos_country[edge[1]]\n",
    "        edge_x.extend([x0, x1, None])\n",
    "        edge_y.extend([y0, y1, None])\n",
    "\n",
    "    node_x = []\n",
    "    node_y = []\n",
    "    node_size = []\n",
    "    node_text = []\n",
    "    for node in G_country.nodes():\n",
    "        x, y = pos_country[node]\n",
    "        node_x.append(x)\n",
    "        node_y.append(y)\n",
    "        node_size.append(10 + 3 * G_country.degree(node))\n",
    "        collaborations = sum(d['weight'] for _, _, d in G_country.edges(node, data=True))\n",
    "        node_text.append(f\"{node}<br>Collaborations: {collaborations}<br>Degree: {G_country.degree(node)}\")\n",
    "\n",
    "    # Create edge trace\n",
    "    edge_trace = go.Scatter(\n",
    "        x=edge_x, y=edge_y,\n",
    "        line=dict(width=0.5, color=\"gray\"),\n",
    "        hoverinfo=\"none\",\n",
    "        mode=\"lines\"\n",
    "    )\n",
    "\n",
    "    # Create nodes\n",
    "    node_trace = go.Scatter(\n",
    "        x=node_x, y=node_y,\n",
    "        mode=\"markers\",\n",
    "        marker=dict(\n",
    "            size=node_size,\n",
    "            color=\"blue\",\n",
    "            line_width=2\n",
    "        ),\n",
    "        hoverinfo=\"text\",\n",
    "        text=node_text\n",
    "    )\n",
    "\n",
    "    # Setting up and combining into a figure\n",
    "    fig = go.Figure(data=[edge_trace, node_trace],\n",
    "                    layout=go.Layout(\n",
    "                        title=f\"Country Collaboration Network - {selected_topic} ({selected_years[0]}-{selected_years[1]})\",\n",
    "                        showlegend=False,\n",
    "                        hovermode=\"closest\",\n",
    "                        margin=dict(b=0, l=0, r=0, t=40),\n",
    "                        xaxis=dict(showgrid=False, zeroline=False),\n",
    "                        yaxis=dict(showgrid=False, zeroline=False)\n",
    "                    ))\n",
    "    return fig\n",
    "\n",
    "# Run the Dash app\n",
    "if __name__ == \"__main__\":\n",
    "    app.run_server(debug=True)\n",
    "\n"
   ]
  }
 ],
 "metadata": {
  "kernelspec": {
   "display_name": "base",
   "language": "python",
   "name": "python3"
  },
  "language_info": {
   "codemirror_mode": {
    "name": "ipython",
    "version": 3
   },
   "file_extension": ".py",
   "mimetype": "text/x-python",
   "name": "python",
   "nbconvert_exporter": "python",
   "pygments_lexer": "ipython3",
   "version": "3.12.7"
  }
 },
 "nbformat": 4,
 "nbformat_minor": 2
}
